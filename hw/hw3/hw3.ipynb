{
 "cells": [
  {
   "cell_type": "code",
   "execution_count": null,
   "metadata": {
    "deletable": false,
    "editable": false
   },
   "outputs": [],
   "source": [
    "# initializing otter-grader\n",
    "import otter\n",
    "grader = otter.Notebook()"
   ]
  },
  {
   "cell_type": "markdown",
   "metadata": {
    "nbgrader": {
     "grade": false,
     "grade_id": "introduction",
     "locked": true,
     "schema_version": 2,
     "solution": false
    }
   },
   "source": [
    "# Homework 3: Bike Sharing\n",
    "## Exploratory Data Analysis (EDA) and Visualization\n",
    "## Due Date: Sunday 5/3, 11:59 PM\n",
    "\n",
    "**Collaboration Policy**\n",
    "\n",
    "Data science is a collaborative activity. While you may talk with others about\n",
    "the homework, we ask that you **write your solutions individually**. If you do\n",
    "discuss the assignments with others please **include their names** below."
   ]
  },
  {
   "cell_type": "markdown",
   "metadata": {},
   "source": [
    "**Collaborators**: *list collaborators here*"
   ]
  },
  {
   "cell_type": "markdown",
   "metadata": {},
   "source": [
    "## Introduction\n",
    "\n",
    "Bike sharing systems are new generation of traditional bike rentals where the process of signing up, renting and returning is automated. Through these systems, users are able to easily rent a bike from one location and return them to another. We will be analyzing bike sharing data from Washington D.C. \n",
    "\n",
    "In this assignment, you will perform tasks to clean, visualize, and explore the bike sharing data. You will also investigate open-ended questions. These open-ended questions ask you to think critically about how the plots you have created provide insight into the data.\n",
    "\n",
    "After completing this assignment, you should be comfortable with:\n",
    "\n",
    "* reading plaintext delimited data into `pandas`\n",
    "* wrangling data for analysis\n",
    "* using EDA to learn about your data \n",
    "* making informative plots with Altair\n",
    "\n",
    "We recommend reading through the entire assignment first to get an idea of your goals.\n",
    "\n",
    "## Grading\n",
    "Grading is broken down into autograded answers and free response. \n",
    "\n",
    "For autograded answers, the results of your code are compared to provided and/or hidden tests.\n",
    "\n",
    "For free response, readers will evaluate how well you answered the question and/or fulfilled the requirements of the question.\n",
    "\n",
    "For plots, your plots should be *similar* to the given examples. We will tolerate small variations such as color differences or slight variations in scale. However it is in your best interest to make the plots as similar as possible, as similarity is subject to the readers.\n",
    "\n",
    "**Note that for ALL plotting questions from here on out, we will expect appropriate titles, axis labels, legends, etc. The following question serves as a good guideline on what is \"enough\": If I directly downloaded the plot and viewed it, would I be able to tell what was being visualized without knowing the question?** \n",
    "\n"
   ]
  },
  {
   "cell_type": "code",
   "execution_count": 1,
   "metadata": {
    "ExecuteTime": {
     "end_time": "2018-09-12T05:50:17.975391Z",
     "start_time": "2018-09-12T05:50:17.067217Z"
    },
    "nbgrader": {
     "grade": false,
     "grade_id": "setup",
     "locked": true,
     "schema_version": 2,
     "solution": false
    }
   },
   "outputs": [],
   "source": [
    "# Run this cell to set up your notebook.  \n",
    "# Make sure ds100_utils.py is in this assignment's folder\n",
    "import csv\n",
    "import numpy as np\n",
    "import pandas as pd\n",
    "import altair as alt\n",
    "alt.data_transformers.disable_max_rows()\n",
    "\n",
    "import zipfile\n",
    "from pathlib import Path\n",
    "import ds100_utils # custom file to add helpful routines\n",
    "\n",
    "# Default plot configurations\n",
    "\n",
    "from IPython.display import display, Latex, Markdown"
   ]
  },
  {
   "cell_type": "markdown",
   "metadata": {
    "nbgrader": {
     "grade": false,
     "grade_id": "codebook",
     "locked": true,
     "schema_version": 2,
     "solution": false
    }
   },
   "source": [
    "## Loading Bike Sharing Data\n",
    "The data we are exploring is collected from a bike sharing system in Washington D.C.\n",
    "\n",
    "The variables in this data frame are defined as:\n",
    "\n",
    "Variable       | Description\n",
    "-------------- | ------------------------------------------------------------------\n",
    "instant | record index\n",
    "dteday | date\n",
    "season | 1. spring <br> 2. summer <br> 3. fall <br> 4. winter\n",
    "yr | year (0: 2011, 1:2012)\n",
    "mnth | month ( 1 to 12)\n",
    "hr | hour (0 to 23)\n",
    "holiday | whether day is holiday or not\n",
    "weekday | day of the week\n",
    "workingday | if day is neither weekend nor holiday\n",
    "weathersit | 1. clear or partly cloudy <br> 2. mist and clouds <br> 3. light snow or rain <br> 4. heavy rain or snow\n",
    "temp | normalized temperature in Celsius (divided by 41)\n",
    "atemp | normalized \"feels-like\" temperature in Celsius (divided by 50)\n",
    "hum | normalized percent humidity (divided by 100)\n",
    "windspeed| normalized wind speed (divided by 67)\n",
    "casual | count of casual users\n",
    "registered | count of registered users\n",
    "cnt | count of total rental bikes including casual and registered  "
   ]
  },
  {
   "cell_type": "markdown",
   "metadata": {
    "nbgrader": {
     "grade": false,
     "grade_id": "cell-5a5f851db609367a",
     "locked": true,
     "schema_version": 2,
     "solution": false
    }
   },
   "source": [
    "### Download the Data"
   ]
  },
  {
   "cell_type": "code",
   "execution_count": 2,
   "metadata": {},
   "outputs": [],
   "source": [
    "data_dir = Path('data')"
   ]
  },
  {
   "cell_type": "code",
   "execution_count": 3,
   "metadata": {
    "ExecuteTime": {
     "end_time": "2018-09-12T05:50:18.082153Z",
     "start_time": "2018-09-12T05:50:18.078562Z"
    },
    "nbgrader": {
     "grade": false,
     "grade_id": "examine-content-code",
     "locked": true,
     "schema_version": 2,
     "solution": false
    }
   },
   "outputs": [],
   "source": [
    "# Run this cell to look at the top of the file.  No further action is needed\n",
    "for line in ds100_utils.head(data_dir/'bikeshare.txt'):\n",
    "    print(line,end=\"\")"
   ]
  },
  {
   "cell_type": "markdown",
   "metadata": {
    "nbgrader": {
     "grade": false,
     "grade_id": "examine-size",
     "locked": true,
     "schema_version": 2,
     "solution": false
    }
   },
   "source": [
    "### Size\n",
    "Is the file big?  How many records do we expect to find? \n",
    "\n",
    "Let's find out."
   ]
  },
  {
   "cell_type": "code",
   "execution_count": 4,
   "metadata": {
    "ExecuteTime": {
     "end_time": "2018-09-12T05:50:18.092524Z",
     "start_time": "2018-09-12T05:50:18.083535Z"
    },
    "nbgrader": {
     "grade": false,
     "grade_id": "examine-size-code",
     "locked": true,
     "schema_version": 2,
     "solution": false
    }
   },
   "outputs": [],
   "source": [
    "# Run this cell to view some metadata.  No further action is needed\n",
    "print(\"Size:\", (data_dir/\"bikeshare.txt\").stat().st_size, \"bytes\")\n",
    "print(\"Line Count:\", ds100_utils.line_count(data_dir/\"bikeshare.txt\"), \"lines\")"
   ]
  },
  {
   "cell_type": "markdown",
   "metadata": {
    "nbgrader": {
     "grade": false,
     "grade_id": "load-data",
     "locked": true,
     "schema_version": 2,
     "solution": false
    }
   },
   "source": [
    "### Loading the data\n",
    "\n",
    "The following code loads the data into a Pandas DataFrame."
   ]
  },
  {
   "cell_type": "code",
   "execution_count": 5,
   "metadata": {
    "ExecuteTime": {
     "end_time": "2018-09-12T05:50:18.144004Z",
     "start_time": "2018-09-12T05:50:18.094479Z"
    },
    "nbgrader": {
     "grade": false,
     "grade_id": "load-data-code",
     "locked": true,
     "schema_version": 2,
     "solution": false
    },
    "scrolled": true
   },
   "outputs": [],
   "source": [
    "# Run this cell to load the data.  No further action is needed\n",
    "bike = pd.read_csv(data_dir/'bikeshare.txt')\n",
    "bike.head()"
   ]
  },
  {
   "cell_type": "markdown",
   "metadata": {
    "nbgrader": {
     "grade": false,
     "grade_id": "cell-a0f8e3c0cc106c97",
     "locked": true,
     "schema_version": 2,
     "solution": false
    }
   },
   "source": [
    "Below, we show the shape of the file. You should see that the size of the DataFrame matches the number of lines in the file, minus the header row."
   ]
  },
  {
   "cell_type": "code",
   "execution_count": 6,
   "metadata": {},
   "outputs": [],
   "source": [
    "bike.shape"
   ]
  },
  {
   "cell_type": "markdown",
   "metadata": {},
   "source": [
    "## 0: Examining the Data\n",
    "\n",
    "Before we start working with the data, let's examine its granularity."
   ]
  },
  {
   "cell_type": "markdown",
   "metadata": {
    "deletable": false,
    "editable": false
   },
   "source": [
    "\n",
    "### Question 0A\n",
    "Look at the data stored in the dataframe `bike`. \n",
    "What is the granularity of these data (i.e. what does each row represent)?\n",
    "\n",
    "<!--\n",
    "BEGIN QUESTION\n",
    "name: q0a\n",
    "points: 1\n",
    "manual: true\n",
    "-->\n",
    "\n",
    "<!-- EXPORT TO PDF -->"
   ]
  },
  {
   "cell_type": "markdown",
   "metadata": {},
   "source": [
    "*Write your answer here, replacing this text.*"
   ]
  },
  {
   "cell_type": "code",
   "execution_count": 7,
   "metadata": {},
   "outputs": [],
   "source": [
    "# Use this cell for scratch work. \n",
    "# If you need to add more cells for scratch work, add them BELOW this cell."
   ]
  },
  {
   "cell_type": "markdown",
   "metadata": {},
   "source": [
    "### Question 0B\n",
    "For this assignment, we'll be using this data to study bike usage in Washington D.C. Based on the granularity and the variables present in the data, what might some limitations of using these data be? What would be two additional data categories/variables that you can collect to address some of these limitations?\n",
    "\n",
    "<!--\n",
    "BEGIN QUESTION\n",
    "name: q0b\n",
    "points: 1\n",
    "manual: true\n",
    "-->\n",
    "<!-- EXPORT TO PDF -->"
   ]
  },
  {
   "cell_type": "markdown",
   "metadata": {},
   "source": [
    "*Write your answer here, replacing this text.*"
   ]
  },
  {
   "cell_type": "code",
   "execution_count": 8,
   "metadata": {},
   "outputs": [],
   "source": [
    "# Use this cell for scratch work. If you need to add more cells for scratch work, add them BELOW this cell."
   ]
  },
  {
   "cell_type": "markdown",
   "metadata": {
    "nbgrader": {
     "grade": false,
     "grade_id": "q1",
     "locked": true,
     "schema_version": 2,
     "solution": false
    }
   },
   "source": [
    "---\n",
    "## 1: Data Preparation\n",
    "A few of the variables that are numeric/integer actually encode categorical data. These include `holiday`, `weekday`, `workingday`, and `weathersit`. In the following problem, we will convert these four variables to strings specifying the categories. In particular, use 3-letter labels (`Sun`, `Mon`, `Tue`, `Wed`, `Thu`, `Fri`, and `Sat`) for `weekday`. You may simply use `yes`/`no` for `holiday` and `workingday`. \n",
    "\n",
    "In this exercise we will *mutate* the data frame, **overwriting the corresponding variables in the data frame.** However, our notebook will effectively document this in-place data transformation for future readers. Make sure to leave the underlying datafile `bikeshare.txt` unmodified."
   ]
  },
  {
   "cell_type": "markdown",
   "metadata": {
    "deletable": false,
    "editable": false,
    "nbgrader": {
     "grade": false,
     "grade_id": "q1a",
     "locked": true,
     "schema_version": 2,
     "solution": false
    }
   },
   "source": [
    "### Question 1a (Decoding `weekday`, `workingday`, and `weathersit`)\n",
    "\n",
    "\n",
    "Decode the `holiday`, `weekday`, `workingday`, and `weathersit` fields:\n",
    "\n",
    "1. `holiday`: Convert to `yes` and `no`.  Hint: There are fewer holidays...\n",
    "1. `weekday`: It turns out that Monday is the day with the most holidays.  Mutate the `'weekday'` column to use the 3-letter label (`'Sun'`, `'Mon'`, `'Tue'`, `'Wed'`, `'Thu'`, `'Fri'`, and `'Sat'` ...) instead of its current numerical values. Assume `0` corresponds to `Sun`, `1` to `Mon` and so on.\n",
    "1. `workingday`: Convert to `yes` and `no`.\n",
    "1. `weathersit`: You should replace each value with one of `Clear`, `Mist`, `Light`, or `Heavy`. Hint: Use the `'hum'` (humidity) column to determine whether your value should be `Clear` (less humid), `Mist` (slightly more humid), `Light` (more humid), or `Heavy` (very humid).\n",
    "\n",
    "**Note:** In this exercise you need to *mutate* the data frame, **overwriting the corresponding variables in the data frame**. If you want to revert changes, run the cell that reloads the csv.\n",
    "\n",
    "**Hint:**  One approach is to use the [replace](https://pandas.pydata.org/pandas-docs/stable/reference/api/pandas.DataFrame.replace.html) method of the pandas DataFrame class. We haven't discussed how to do this so you'll need to look at the documentation. The most concise way is to use the approach described in the documentation as \"nested-dictonaries\" (which you can generate manually to describe the mapping of the values), though there are many possible solutions.\n",
    "<!--\n",
    "BEGIN QUESTION\n",
    "name: q1a\n",
    "points: 2\n",
    "gradescope: show\n",
    "-->"
   ]
  },
  {
   "cell_type": "code",
   "execution_count": 9,
   "metadata": {
    "ExecuteTime": {
     "end_time": "2018-09-12T05:50:18.179751Z",
     "start_time": "2018-09-12T05:50:18.145438Z"
    },
    "nbgrader": {
     "grade": false,
     "grade_id": "q1a-answer",
     "locked": false,
     "schema_version": 2,
     "solution": true
    },
    "tags": [
     "student"
    ]
   },
   "outputs": [],
   "source": [
    "# Modify holiday weekday, workingday, and weathersit here\n",
    "..."
   ]
  },
  {
   "cell_type": "markdown",
   "metadata": {
    "deletable": false,
    "editable": false,
    "nbgrader": {
     "grade": false,
     "grade_id": "q1b",
     "locked": true,
     "schema_version": 2,
     "solution": false
    }
   },
   "source": [
    "### Question 1b (Holidays)\n",
    "\n",
    "How many entries in the data correspond to holidays?  Set the variable `num_holidays` to this value.\n",
    "<!--\n",
    "BEGIN QUESTION\n",
    "name: q1b\n",
    "points: 1\n",
    "gradescope: show\n",
    "-->"
   ]
  },
  {
   "cell_type": "code",
   "execution_count": 18,
   "metadata": {
    "ExecuteTime": {
     "end_time": "2018-09-12T05:50:18.192975Z",
     "start_time": "2018-09-12T05:50:18.188135Z"
    },
    "nbgrader": {
     "grade": false,
     "grade_id": "q1b-answer",
     "locked": false,
     "schema_version": 2,
     "solution": true
    }
   },
   "outputs": [],
   "source": [
    "num_holidays = ..."
   ]
  },
  {
   "cell_type": "markdown",
   "metadata": {
    "deletable": false,
    "editable": false,
    "nbgrader": {
     "grade": false,
     "grade_id": "q1c",
     "locked": true,
     "schema_version": 2,
     "solution": false
    }
   },
   "source": [
    "### Question 1c (Computing Daily Total Counts)\n",
    "In the next few questions we will be analyzing the daily number of registered and unregistered users.\n",
    "\n",
    "Construct a data frame named `daily_counts` indexed by `dteday` with the following columns:\n",
    "* `casual`: total number of casual riders for each day\n",
    "* `registered`: total number of registered riders for each day\n",
    "* `workingday`: whether that day is a working day or not (`yes` or `no`)\n",
    "* `weathersit`: what was the weather situation like (`Clear`, `Mist`, `Light`, or `Heavy`)\n",
    "* `season`: what season the day falls on\n",
    "\n",
    "**Hint**: `groupby` and `agg`. For the `agg` method, please check the [documentation](https://pandas.pydata.org/pandas-docs/version/0.23.4/generated/pandas.core.groupby.DataFrameGroupBy.agg.html) for examples on applying different aggregations per column. If you use the capability to do different aggregations by column, you can do this task with a single call to `groupby` and `agg`. For the `workingday` column we can take any of the values since we are grouping by the day, thus the value will be the same within each group. Take a look at the `'first'` or `'last'` aggregation functions.\n",
    "\n",
    "<!--\n",
    "BEGIN QUESTION\n",
    "name: q1c\n",
    "points: 4\n",
    "gradescope: show\n",
    "-->"
   ]
  },
  {
   "cell_type": "code",
   "execution_count": 20,
   "metadata": {
    "ExecuteTime": {
     "end_time": "2018-09-12T05:50:18.215897Z",
     "start_time": "2018-09-12T05:50:18.198322Z"
    },
    "nbgrader": {
     "grade": false,
     "grade_id": "q1c-answer",
     "locked": false,
     "schema_version": 2,
     "solution": true
    },
    "tags": [
     "student"
    ]
   },
   "outputs": [],
   "source": [
    "daily_counts = ..."
   ]
  },
  {
   "cell_type": "markdown",
   "metadata": {
    "nbgrader": {
     "grade": false,
     "grade_id": "q2",
     "locked": true,
     "schema_version": 2,
     "solution": false
    }
   },
   "source": [
    "---\n",
    "# 2: Exploring the Distribution of Riders\n",
    "\n",
    "In this question we'll begin by comparing the distribution of the daily counts of casual and registered riders.  "
   ]
  },
  {
   "cell_type": "markdown",
   "metadata": {
    "deletable": false,
    "editable": false
   },
   "source": [
    "### Question 2a\n",
    "\n",
    "Usually there are multiple ways to solve a problem. In this and the next question, create the same visualization using `pandas` methods and the built-in Altair transformations.\n",
    "\n",
    "\n",
    "For this question, create a long table using the pandas function [melt](https://pandas.pydata.org/pandas-docs/stable/reference/api/pandas.melt.html) that has one column indicating the rider type (`casual` vs `registered`) and another column with the number of riders. \n",
    "\n",
    "The temporal granularity of the records should be *daily counts*, which you should have after completing question 1c. \n",
    "\n",
    "As always, include a properly-labeled legend, xlabel, ylabel, and a title. \n",
    "\n",
    "After creating the plot, look at it and make sure you understand what the plot is actually telling us, e.g., on a given day, the most likely number of registered riders we expect is ~4000, but it could be anywhere from nearly 0 to 7000. (Note that our example uses a `bin=alt.Bin(maxbins=100)` parameter.)\n",
    "\n",
    "<img src='images/casual_vs_registered.svg' width=\"600px\" />\n",
    "\n",
    "<!--\n",
    "BEGIN QUESTION\n",
    "name: q2c\n",
    "points: 2\n",
    "manual: true\n",
    "-->\n",
    "<!-- EXPORT TO PDF -->"
   ]
  },
  {
   "cell_type": "code",
   "execution_count": 24,
   "metadata": {},
   "outputs": [],
   "source": [
    "## A long table with 2 columns\n",
    "daily_counts_long = ...\n",
    "\n",
    "## Call alt.Chart on daily_counts_long to make the look like the provided figure\n",
    "..."
   ]
  },
  {
   "cell_type": "markdown",
   "metadata": {
    "deletable": false,
    "editable": false,
    "nbgrader": {
     "grade": false,
     "grade_id": "q2a",
     "locked": true,
     "schema_version": 2,
     "solution": false
    }
   },
   "source": [
    "### Question 2b\n",
    "\n",
    "Use the [layered_histogram](https://altair-viz.github.io/gallery/layered_histogram.html) function to create a plot that overlays the histograms of the daily counts of bike users, using one color to represent `casual` riders, and another to represent `registered` riders. The temporal granularity of the records should be _daily counts_, which you should have after completing question 1c. The example on the [layered_histogram](https://altair-viz.github.io/gallery/layered_histogram.html) page should be very helpful for this question.\n",
    "\n",
    "As always, include a properly-labeled legend, xlabel, ylabel, and a title. \n",
    "\n",
    "After creating the plot, look at it and make sure you understand what the plot is actually telling us, e.g., on a given day, the most likely number of registered riders we expect is ~4000, but it could be anywhere from nearly 0 to 7000. (Note that our example uses a `bin=alt.Bin(maxbins=100)` parameter.)\n",
    "\n",
    "Your figure should look identical to the figure in 2a.\n",
    "\n",
    "\n",
    "**Hint**: You will need to use the [`transform_fold`](https://altair-viz.github.io/user_guide/transform/fold.html) function shown in the [layered_histogram](https://altair-viz.github.io/gallery/layered_histogram.html) example.  This function is similar to `pd.melt` discussed in class, in that it takes a wide data frame and converts it to a long format.  [Altair works best with long format data](https://altair-viz.github.io/user_guide/transform/fold.html).\n",
    "\n",
    "<!--\n",
    "BEGIN QUESTION\n",
    "name: q2a\n",
    "points: 4\n",
    "manual: true\n",
    "-->\n",
    "\n",
    "<!-- EXPORT TO PDF -->"
   ]
  },
  {
   "cell_type": "code",
   "execution_count": 26,
   "metadata": {
    "ExecuteTime": {
     "end_time": "2018-09-12T05:50:18.436723Z",
     "start_time": "2018-09-12T05:50:18.223712Z"
    },
    "nbgrader": {
     "grade": true,
     "grade_id": "q2a-answer",
     "locked": false,
     "points": 2,
     "schema_version": 2,
     "solution": true
    },
    "tags": [
     "student"
    ]
   },
   "outputs": [],
   "source": [
    "..."
   ]
  },
  {
   "cell_type": "markdown",
   "metadata": {
    "deletable": false,
    "editable": false,
    "nbgrader": {
     "grade": false,
     "grade_id": "q2b",
     "locked": true,
     "schema_version": 2,
     "solution": false
    }
   },
   "source": [
    "### Question 2c\n",
    "\n",
    "In the cell below, describe the differences you notice between the histograms for casual and registered riders.  Consider concepts such as modes, symmetry, skewness, tails, gaps and outliers.  Include a comment on the spread of the distributions. \n",
    "<!--\n",
    "BEGIN QUESTION\n",
    "name: q2b\n",
    "points: 2\n",
    "manual: true\n",
    "-->\n",
    "<!-- EXPORT TO PDF -->"
   ]
  },
  {
   "cell_type": "markdown",
   "metadata": {},
   "source": [
    "*Write your answer here, replacing this text.*"
   ]
  },
  {
   "cell_type": "markdown",
   "metadata": {
    "deletable": false,
    "editable": false,
    "nbgrader": {
     "grade": false,
     "grade_id": "q2c",
     "locked": true,
     "schema_version": 2,
     "solution": false
    }
   },
   "source": [
    "### Question 2d\n",
    "\n",
    "The density plots do not show us how the counts for registered and casual riders vary together. Use [mark_point]() to make a scatter plot to investigate the relationship between casual and registered counts. This time, let's use the `bike` DataFrame to plot hourly counts instead of daily counts.  Color the points in the scatterplot according to whether or not the day is a working day (your colors do not have to match ours exactly, but they should be different based on whether the day is a working day). In addition, there are many points in the scatter plot, so make them small to help reduce [overplotting](https://www.data-to-viz.com/caveat/overplotting.html).\n",
    "\n",
    "The [transform_regression](https://altair-viz.github.io/user_guide/transform/regression.html) function will also try to draw a linear regression line. In order to add two regression lines, set the `groupby` argument of the `transform_regression` to the working day variable.  \n",
    "\n",
    "Your image should look something like this:\n",
    "\n",
    "<img src='images/workingday.svg' width=\"600px\" />\n",
    "\n",
    "<!--\n",
    "BEGIN QUESTION\n",
    "name: q2d\n",
    "points: 2\n",
    "manual: true\n",
    "-->\n",
    "\n",
    "<!-- EXPORT TO PDF -->"
   ]
  },
  {
   "cell_type": "code",
   "execution_count": 27,
   "metadata": {
    "scrolled": true
   },
   "outputs": [],
   "source": [
    "\n",
    "..."
   ]
  },
  {
   "cell_type": "markdown",
   "metadata": {
    "deletable": false,
    "editable": false,
    "nbgrader": {
     "grade": false,
     "grade_id": "q2d",
     "locked": true,
     "schema_version": 2,
     "solution": false
    }
   },
   "source": [
    "### Question 2e\n",
    "\n",
    "What does this scatterplot reveal about the relationship (if any) between casual and registered riders and whether or not the day they ride is on the weekend? What effect does [overplotting](https://www.data-to-viz.com/caveat/overplotting.html) have on your ability to describe this relationship?\n",
    "\n",
    "<!--\n",
    "BEGIN QUESTION\n",
    "name: q2e\n",
    "points: 2\n",
    "manual: true\n",
    "-->\n",
    "<!-- EXPORT TO PDF -->"
   ]
  },
  {
   "cell_type": "markdown",
   "metadata": {},
   "source": [
    "*Write your answer here, replacing this text.*"
   ]
  },
  {
   "cell_type": "markdown",
   "metadata": {
    "deletable": false,
    "editable": false
   },
   "source": [
    "# 3 Interactive Visualizations of Seasonal Patterns\n",
    "\n",
    "\n",
    "### Question 3a\n",
    "\n",
    "In this question we'll try visualizing the relationship between registered and casual riders using a heatmap. In Altair the heat map uses the [mark_rect](https://altair-viz.github.io/gallery/simple_heatmap.html#gallery-simple-heatmap) property.  Create a heatmap with causal riders on the x-axis and registered riders on the y-axis.  Use any color scheme you like.  \n",
    "\n",
    "Save you chart in a variable named `rect` (which will be used in the next question) and display it.\n",
    "\n",
    "[This example](https://altair-viz.github.io/gallery/binned_heatmap.html) may be particularly helpful.\n",
    "\n",
    "    \n",
    "<!--\n",
    "BEGIN QUESTION\n",
    "name: q3a\n",
    "points: 2\n",
    "manual: true\n",
    "-->\n",
    "<!-- EXPORT TO PDF -->"
   ]
  },
  {
   "cell_type": "code",
   "execution_count": 28,
   "metadata": {},
   "outputs": [],
   "source": [
    "rect = ...\n",
    "...\n",
    "\n",
    "rect"
   ]
  },
  {
   "cell_type": "markdown",
   "metadata": {
    "deletable": false,
    "editable": false
   },
   "source": [
    "### Question 3b\n",
    "\n",
    "Now, let's see if we can create an interactive visualization around the heatmap we just drew.  To do that we'll follow the [iteractive cross highlight](https://altair-viz.github.io/gallery/interactive_cross_highlight.html) example in the documentation.  In our example we'll make a bar plot indicating the total number of riders per season.\n",
    "\n",
    "When complete, if you hold the shift key and click on the bars, you can select which observation appear in the heat map.\n",
    "\n",
    "1. Add a column to `daily_counts` called `total` which is the total number of riders each day (sum of `registered` and `casual`).\n",
    "2. Make a barplot called `bar_plot`, which has the total riders in each season. \n",
    "    - Hint: the y encoding will need be the sum of total daily counts.  See the documentation on useful [encoding shortands](https://altair-viz.github.io/user_guide/encoding.html#encoding-shorthands)\n",
    "    - Follow the interactive cross highilght example to set the color of the bars to change when you click on them.\n",
    "    \n",
    "\n",
    "Use the interactive visualization to quickly detect which season had the day with the most casual riders.  Save your answer as either \"spring\", \"summer\", \"winter\" or \"fall\" in a variable calle `most_casual`.  \n",
    "    \n",
    "<!--\n",
    "BEGIN QUESTION\n",
    "name: q3b\n",
    "points: 2\n",
    "manual: true\n",
    "-->\n",
    "<!-- EXPORT TO PDF -->"
   ]
  },
  {
   "cell_type": "code",
   "execution_count": 32,
   "metadata": {},
   "outputs": [],
   "source": [
    "# This creates a selection tool\n",
    "pts = alt.selection(type=\"multi\", encodings=['x'])\n",
    "\n",
    "## This is a point plot where the size corresponds to the number of riders in each rectangle\n",
    "## We'll only show the circle if the relevant bar has been selected\n",
    "## This is done with `transform_filter on out pts selection tool\n",
    "circ = rect.mark_point().encode(\n",
    "    alt.ColorValue('grey'),\n",
    "    alt.Size('count()',\n",
    "        legend=alt.Legend(title='Records in Selection')\n",
    "    )\n",
    ").transform_filter(\n",
    "    pts\n",
    ")\n",
    "\n",
    "## Make a bar plot of total riders in each season and add the selection tool\n",
    "...\n",
    "\n",
    "\n",
    "\n",
    "## Put all of the plots together.\n",
    "interactive_plot = alt.vconcat(\n",
    "    rect + circ,\n",
    "    bar_plot\n",
    ").resolve_legend(\n",
    "    color=\"independent\",\n",
    "    size=\"independent\"\n",
    ")\n",
    "\n",
    "# Use the interactive visualization to quickly see which season had the day with most casual riders\n",
    "# You response should be either \"spring\", \"summer\", \"winter\" or \"fall\"\n",
    "most_casual = ...\n",
    "\n",
    "interactive_plot"
   ]
  },
  {
   "cell_type": "markdown",
   "metadata": {
    "deletable": false,
    "editable": false,
    "nbgrader": {
     "grade": false,
     "grade_id": "q5a",
     "locked": true,
     "schema_version": 2,
     "solution": false
    }
   },
   "source": [
    "---\n",
    "# 4: Understanding Daily Patterns\n",
    "\n",
    "### Question 4a\n",
    "Let's examine the behavior of riders by plotting the average number of riders for each hour of the day over the **entire dataset**, stratified by rider type.  \n",
    "\n",
    "Your plot should look like the plot below. While we don't expect your plot's colors to match ours exactly, your plot should have different colored lines for different kinds of riders.\n",
    "\n",
    "<img src=\"images/diurnal_bikes.svg\" width=\"400px\"/>\n",
    "\n",
    "From the `bike` data frame, compute a new data frame called `hourly_means` with the average number of riders at each hour of the day.  \n",
    "\n",
    "**Hint:** By default Altair cannot include indices in the channel encodings.  If `hr` is an index in your data frame, make it a column using the `reset_index` function.  See the note on [including index data in Altair](https://altair-viz.github.io/user_guide/data.html#including-index-data).\n",
    "\n",
    "<!--\n",
    "BEGIN QUESTION\n",
    "name: q4a\n",
    "points: 2\n",
    "manual: true\n",
    "-->\n",
    "<!-- EXPORT TO PDF -->"
   ]
  },
  {
   "cell_type": "code",
   "execution_count": 34,
   "metadata": {
    "ExecuteTime": {
     "end_time": "2018-09-12T05:50:26.768572Z",
     "start_time": "2018-09-12T05:50:25.371208Z"
    },
    "nbgrader": {
     "grade": true,
     "grade_id": "q5a-answer",
     "locked": false,
     "points": 2,
     "schema_version": 2,
     "solution": true
    },
    "tags": [
     "student",
     "written"
    ]
   },
   "outputs": [],
   "source": [
    "hourly_means = ...\n",
    "\n",
    "..."
   ]
  },
  {
   "cell_type": "markdown",
   "metadata": {
    "deletable": false,
    "editable": false,
    "nbgrader": {
     "grade": false,
     "grade_id": "q5b",
     "locked": true,
     "schema_version": 2,
     "solution": false
    }
   },
   "source": [
    "### Question 4b\n",
    "\n",
    "What can you observe from the plot?  Hypothesize about the meaning of the peaks in the registered riders' distribution.\n",
    "\n",
    "<!--\n",
    "BEGIN QUESTION\n",
    "name: q4b\n",
    "points: 2\n",
    "manual: true\n",
    "-->\n",
    "<!-- EXPORT TO PDF -->"
   ]
  },
  {
   "cell_type": "markdown",
   "metadata": {},
   "source": [
    "*Write your answer here, replacing this text.*"
   ]
  },
  {
   "cell_type": "markdown",
   "metadata": {
    "deletable": false,
    "editable": false,
    "nbgrader": {
     "grade": false,
     "grade_id": "q6a",
     "locked": true,
     "schema_version": 2,
     "solution": false
    }
   },
   "source": [
    "---\n",
    "# 5: Exploring Ride Sharing and Weather\n",
    "In this question we'll start examining how the weather is affecting rider's behavior. \n",
    "\n",
    "### Question 5a\n",
    "\n",
    "We can quickly view relationships between many variables using what is often called a \"pairs plot\".  In Altair they call this [repeated-charts](https://altair-viz.github.io/user_guide/compound_charts.html#repeated-charts). Make a 4x4 grid of plots showing the relationship between the `casual`, `hum`, `windspeed`, and `temp` variables.  Set the color of the points to the `season` variables.  Do the number of casual riders seem related to weather? Are any of the weather variables related?\n",
    "\n",
    "To limit the computation time and memory required to make the plot, make the plot using `bike_sample`, which is a random sample of 1000 rows of `bike`.  You may want to first define `row_sample` as 1000 random row indices that you can use to make the selection.\n",
    "\n",
    "<!--\n",
    "BEGIN QUESTION\n",
    "name: q5a\n",
    "points: 4\n",
    "-->\n"
   ]
  },
  {
   "cell_type": "code",
   "execution_count": 36,
   "metadata": {},
   "outputs": [],
   "source": [
    "import altair as alt\n",
    "\n",
    "row_sample = ...\n",
    "bike_sample = ...\n",
    "\n",
    "..."
   ]
  },
  {
   "cell_type": "markdown",
   "metadata": {
    "deletable": false,
    "editable": false
   },
   "source": [
    "### Question 5b\n",
    "Next, let's look at how the proportion of casual riders changes as weather changes.\n",
    "Create a new column in the `bike` DataFrame calle `prop_casual` which represents the proportion of casual riders out of all riders for each record.\n",
    "\n",
    "<!--\n",
    "BEGIN QUESTION\n",
    "name: q5b\n",
    "points: 1\n",
    "-->"
   ]
  },
  {
   "cell_type": "code",
   "execution_count": 38,
   "metadata": {
    "ExecuteTime": {
     "end_time": "2018-09-12T05:50:26.774129Z",
     "start_time": "2018-09-12T05:50:26.770558Z"
    },
    "nbgrader": {
     "grade": false,
     "grade_id": "q6a-answer",
     "locked": false,
     "schema_version": 2,
     "solution": true
    },
    "tags": [
     "student"
    ]
   },
   "outputs": [],
   "source": [
    "..."
   ]
  },
  {
   "cell_type": "markdown",
   "metadata": {
    "deletable": false,
    "editable": false,
    "nbgrader": {
     "grade": false,
     "grade_id": "q6b",
     "locked": true,
     "schema_version": 2,
     "solution": false
    }
   },
   "source": [
    "### Question 5c\n",
    "In order to examine the relationship between proportion of casual riders and temperature, we can again create a scatterplot using `mark_point`. We can even use color/hue to encode the information about day of week. Run the cell below, and you'll see we end up with a big mess that is impossible to interpret.\n",
    "<!--\n",
    "BEGIN QUESTION\n",
    "name: q5c\n",
    "points: 2\n",
    "-->"
   ]
  },
  {
   "cell_type": "code",
   "execution_count": 40,
   "metadata": {
    "nbgrader": {
     "grade": false,
     "grade_id": "cell-728459bdb0b60604",
     "locked": true,
     "schema_version": 2,
     "solution": false
    }
   },
   "outputs": [],
   "source": [
    "alt.Chart(bike).mark_point().encode(\n",
    "     x='temp',\n",
    "    y='prop_casual',\n",
    "    color='weekday'\n",
    ").configure_mark(\n",
    "    opacity=0.5,\n",
    ")"
   ]
  },
  {
   "cell_type": "markdown",
   "metadata": {
    "nbgrader": {
     "grade": false,
     "grade_id": "cell-980b34b254817347",
     "locked": true,
     "schema_version": 2,
     "solution": false
    }
   },
   "source": [
    "### Question 5d\n",
    "\n",
    "A better approach is to use local smoothing. The basic idea is that for each x value, we compute some sort of representative y value that captures the data close to that x value. One technique for local smoothing is LOESS transform (LOcally Estimated Scatterplot Smoothing), which is also known as \"Locally Weighted Scatterplot Smoothing\" (LOWESS). \n",
    "\n",
    "See an example is below. The blue curve shown is a smoothed version of the scatterplot. To include the LOESS fit to the scatter plot, we can use the [transform_loess](https://altair-viz.github.io/user_guide/transform/loess.html) function in Altair.\n"
   ]
  },
  {
   "cell_type": "code",
   "execution_count": 41,
   "metadata": {
    "ExecuteTime": {
     "end_time": "2018-09-12T05:50:28.793327Z",
     "start_time": "2018-09-12T05:50:28.646991Z"
    },
    "nbgrader": {
     "grade": false,
     "grade_id": "cell-fae506cbd94f98bc",
     "locked": true,
     "schema_version": 2,
     "solution": false
    }
   },
   "outputs": [],
   "source": [
    "\n",
    "# Make noisy data\n",
    "xobs = np.sort(np.random.rand(100)*4.0 - 2)\n",
    "noisy_data = pd.DataFrame({\n",
    "    'xobs' : xobs,    \n",
    "    'yobs' : np.exp(xobs) + np.random.randn(100) / 2.0\n",
    "})\n",
    "\n",
    "chart = alt.Chart(noisy_data).transform_loess('xobs', 'yobs').mark_line(size=2, color=\"red\").encode(\n",
    "    x='xobs',\n",
    "    y='yobs'\n",
    ")\n",
    "\n",
    "chart + alt.Chart(noisy_data).mark_point(color=\"blue\").encode(\n",
    "    x = \"xobs\",\n",
    "    y = \"yobs\"\n",
    ")"
   ]
  },
  {
   "cell_type": "markdown",
   "metadata": {
    "deletable": false,
    "editable": false,
    "nbgrader": {
     "grade": false,
     "grade_id": "q6b-lowess-plot",
     "locked": true,
     "schema_version": 2,
     "solution": false
    }
   },
   "source": [
    "In our case with the bike ridership data, we want 7 curves, one for each day of the week. The x-axis will be the temperature and the y-axis will be a smoothed version of the proportion of casual riders.\n",
    "\n",
    "<img src=\"images/curveplot_temp_prop_casual.svg\" width=\"600px\" />\n",
    "\n",
    "You should use [transform_loess](https://altair-viz.github.io/user_guide/transform/loess.html) just like the example above. Unlike the example above, plot ONLY the lowess curve. Do not plot the actual data points, which would result in a mess of points covering the smooth line fits. \n",
    "\n",
    "You do not need to match the colors on our sample plot as long as the colors in your plot make it easy to distinguish which day they represent.\n",
    "\n",
    "Set the plot title to \"Temperature vs Casual Rider Proportion by Weekday\".\n",
    "\n",
    "**Hints:** \n",
    "* Start by creating a new column in the `bike` data frame, called `temp_f`.  Look at the top of this homework notebook for a description of the temperature field to know how to convert to Fahrenheit. By default, the temperature field ranges from 0.0 to 1.0. In case you need it, $\\text{Fahrenheit} = \\text{Celsius} * \\frac{9}{5} + 32$.\n",
    "\n",
    "<!--\n",
    "BEGIN QUESTION\n",
    "name: q5d\n",
    "points: 4\n",
    "-->\n"
   ]
  },
  {
   "cell_type": "code",
   "execution_count": 42,
   "metadata": {
    "nbgrader": {
     "grade": true,
     "grade_id": "cell-831d12249d05ea2c",
     "locked": false,
     "points": 4,
     "schema_version": 2,
     "solution": true
    },
    "scrolled": false
   },
   "outputs": [],
   "source": [
    "...\n",
    "\n",
    "...\n"
   ]
  },
  {
   "cell_type": "markdown",
   "metadata": {
    "deletable": false,
    "editable": false
   },
   "source": [
    "### Question 5e\n",
    "\n",
    "Repeat the above plot, but this change the `bandwith` argument for the `transform_loess` function.  The bandwidth parameter controls the smoothness of the interpolating line, with smaller numbers leading to less smoothness and larger numbers to more smoothness.  Create one chart with `bandwith=0.1` (call it `chart1`) and another with `bandwidth=0.8` (call it `chart8`).  [Use the `|` operator to plot `chart1` and `chart8` side by side.](https://altair-viz.github.io/user_guide/compound_charts.html#horizontal-concatenation)\n",
    "\n",
    "<!--\n",
    "BEGIN QUESTION\n",
    "name: q5e\n",
    "points: 2\n",
    "-->\n"
   ]
  },
  {
   "cell_type": "code",
   "execution_count": 43,
   "metadata": {},
   "outputs": [],
   "source": [
    "...\n",
    "\n",
    "chart1 | chart8\n"
   ]
  },
  {
   "cell_type": "markdown",
   "metadata": {},
   "source": [
    "### Question 5f\n",
    "\n",
    "The default bandwidth for `transform_loess` is 0.3.  Among the 0.1, 0.3 and 0.8, which amount of smoothness was most informative about the relationship between casual riders and temperature? Why? In your answer, you should try to address which patterns in the lowess fits you think are robust or likely to be repeated in future years.\n"
   ]
  },
  {
   "cell_type": "markdown",
   "metadata": {},
   "source": [
    "*Write your answer here, replacing this text.*"
   ]
  },
  {
   "cell_type": "markdown",
   "metadata": {
    "deletable": false,
    "editable": false
   },
   "source": [
    "\n",
    "### Question 5g\n",
    "Remake the above plot, this time grouping by `workingday` rather than `weekday`.  Use a bandwidth of your choice.\n",
    "\n",
    "<!--\n",
    "BEGIN QUESTION\n",
    "name: q5g\n",
    "points: 2\n",
    "-->\n"
   ]
  },
  {
   "cell_type": "code",
   "execution_count": 44,
   "metadata": {
    "nbgrader": {
     "grade": true,
     "grade_id": "cell-831d12249d05ea2c",
     "locked": false,
     "points": 4,
     "schema_version": 2,
     "solution": true
    },
    "scrolled": false
   },
   "outputs": [],
   "source": [
    "...\n"
   ]
  },
  {
   "cell_type": "markdown",
   "metadata": {
    "deletable": false,
    "editable": false,
    "nbgrader": {
     "grade": false,
     "grade_id": "q6c",
     "locked": true,
     "schema_version": 2,
     "solution": false
    }
   },
   "source": [
    "### Question 5h\n",
    "What do you see from the plots above? How is `prop_casual` changing as a function of temperature? Do you notice anything else interesting? Which plot do you think most clearly tells the story about bike share use and temperature and days of the week.  Your answer should the plots the previous three parts.  \n",
    "<!--\n",
    "BEGIN QUESTION\n",
    "name: q5h\n",
    "points: 2\n",
    "manual: true\n",
    "-->\n",
    "<!-- EXPORT TO PDF -->"
   ]
  },
  {
   "cell_type": "markdown",
   "metadata": {},
   "source": [
    "*Write your answer here, replacing this text.*"
   ]
  },
  {
   "cell_type": "markdown",
   "metadata": {
    "deletable": false,
    "editable": false
   },
   "source": [
    "# Question 6 Expanding our Analysis\n",
    "### Question 6a\n",
    "\n",
    "Imagine you are working for a Bike Sharing Company that collaborates with city planners, transportation agencies, and policy makers in order to implement bike sharing in a city. These stakeholders would like to reduce congestion and lower transportation costs. They also want to ensure the bike sharing program is implemented equitably. In this sense, equity is a social value that is informing the deployment and assessment of your bike sharing technology. \n",
    "\n",
    "Equity in transportation includes: improving the ability of people of different socio-economic classes, genders, races, and neighborhoods to access and afford the transportation services, and assessing how inclusive transportation systems are over time. \n",
    "\n",
    "Do you think the `bike` data as it is can help you assess equity? If so, please explain. If not, how would you change the dataset? You may discuss how you would change the granularity, what other kinds of variables you'd introduce to it, or anything else that might help you answer this question.\n",
    "\n",
    "<!--\n",
    "BEGIN QUESTION\n",
    "name: q6a\n",
    "points: 2\n",
    "manual: true\n",
    "-->\n",
    "\n",
    "<!-- EXPORT TO PDF -->"
   ]
  },
  {
   "cell_type": "markdown",
   "metadata": {},
   "source": [
    "*Write your answer here, replacing this text.*"
   ]
  },
  {
   "cell_type": "code",
   "execution_count": 45,
   "metadata": {},
   "outputs": [],
   "source": [
    "# Use this cell for scratch work. If you need to add more cells for scratch work, add them BELOW this cell."
   ]
  },
  {
   "cell_type": "markdown",
   "metadata": {
    "deletable": false,
    "editable": false
   },
   "source": [
    "### Question 6b\n",
    "[Bike sharing is growing in popularity](https://www.bts.gov/newsroom/bike-share-stations-us) and new cities and regions are making efforts to implement bike sharing systems that complement their other transportation offerings. The [goals of these efforts](https://www.wired.com/story/americans-falling-in-love-bike-share/) are to have bike sharing serve as an alternate form of transportation in order to alleviate congestion, provide geographic connectivity, reduce carbon emissions, and promote inclusion among communities.\n",
    "\n",
    "Bike sharing systems have spread to many cities across the country. The company you work for asks you to determine the feasibility of expanding bike sharing to additional cities of the U.S. \n",
    "\n",
    "Based on your plots in this assignment, what would you recommend and why? Please list at least two reasons why, and mention which plot(s) you drew you analysis from. \n",
    "\n",
    "**Note**: There isn't a set right or wrong answer for this question, feel free to come up with your own conclusions based on evidence from your plots! \n",
    "\n",
    "<!--\n",
    "BEGIN QUESTION\n",
    "name: q6b\n",
    "points: 2\n",
    "manual: true\n",
    "-->\n",
    "\n",
    "<!-- EXPORT TO PDF -->"
   ]
  },
  {
   "cell_type": "markdown",
   "metadata": {},
   "source": [
    "*Write your answer here, replacing this text.*"
   ]
  },
  {
   "cell_type": "code",
   "execution_count": 46,
   "metadata": {},
   "outputs": [],
   "source": [
    "# Use this cell for scratch work. If you need to add more cells for scratch work, add them BELOW this cell."
   ]
  },
  {
   "cell_type": "markdown",
   "metadata": {},
   "source": [
    "# Submit\n",
    "Make sure you have run all cells in your notebook in order before running the cell below, so that all images/graphs appear in the output.\n",
    "**Please save before submitting!**\n",
    "\n",
    "<!-- EXPECT 15 EXPORTED QUESTIONS -->"
   ]
  },
  {
   "cell_type": "markdown",
   "metadata": {
    "deletable": false,
    "editable": false
   },
   "source": [
    "# Running Built-in Tests\n",
    "1. All tests are in `tests` directory\n",
    "1. Each python file in `tests` is a test\n",
    "1. `grader.check('testname')` runs test `'testname'`, e.g. `'q1'`\n",
    "1. `grader.check_all()` runs all visible tests"
   ]
  },
  {
   "cell_type": "code",
   "execution_count": null,
   "metadata": {
    "deletable": false,
    "editable": false
   },
   "outputs": [],
   "source": [
    "# Run built-in checks\n",
    "grader.check_all()"
   ]
  },
  {
   "cell_type": "code",
   "execution_count": null,
   "metadata": {},
   "outputs": [],
   "source": [
    "# Generate pdf in classic notebook (does not work in JupyterLab)\n",
    "import nb2pdf\n",
    "nb2pdf.convert('hw3.ipynb')\n",
    "\n",
    "# To generate pdf using command-line, run in terminal,\n",
    "# nb2pdf hw3.ipynb"
   ]
  },
  {
   "cell_type": "markdown",
   "metadata": {
    "deletable": false,
    "editable": false
   },
   "source": [
    "# Submission Checklist\n",
    "1. Check filename is 'hw3.ipynb'\n",
    "1. Save file to confirm all changes are on disk\n",
    "1. Run *Kernel > Restart & Run All* to execute all code from top to bottom\n",
    "1. Check `grader.check_all()` output\n",
    "1. Save file again to write any new output to disk\n",
    "1. Check generated pdf that all responses are displayed correctly\n",
    "1. Submit to Gradescope"
   ]
  }
 ],
 "metadata": {
  "celltoolbar": "Edit Metadata",
  "kernelspec": {
   "display_name": "Python 3",
   "language": "python",
   "name": "python3"
  },
  "language_info": {
   "codemirror_mode": {
    "name": "ipython",
    "version": 3
   },
   "file_extension": ".py",
   "mimetype": "text/x-python",
   "name": "python",
   "nbconvert_exporter": "python",
   "pygments_lexer": "ipython3",
   "version": "3.6.7"
  },
  "toc": {
   "base_numbering": 1,
   "nav_menu": {},
   "number_sections": false,
   "sideBar": true,
   "skip_h1_title": false,
   "title_cell": "Table of Contents",
   "title_sidebar": "Contents",
   "toc_cell": false,
   "toc_position": {
    "height": "calc(100% - 180px)",
    "left": "10px",
    "top": "150px",
    "width": "223px"
   },
   "toc_section_display": true,
   "toc_window_display": true
  }
 },
 "nbformat": 4,
 "nbformat_minor": 2
}
