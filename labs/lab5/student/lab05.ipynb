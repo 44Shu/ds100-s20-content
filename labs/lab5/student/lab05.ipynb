{
 "cells": [
  {
   "cell_type": "code",
   "execution_count": null,
   "metadata": {
    "deletable": false,
    "editable": false
   },
   "outputs": [],
   "source": [
    "# initializing otter-grader\n",
    "import otter\n",
    "grader = otter.Notebook()"
   ]
  },
  {
   "cell_type": "markdown",
   "metadata": {},
   "source": [
    "# Lab 5: Data Transformation and Density Estimation\n",
    "\n",
    "In this lab we are going to apply data transformations and convert the data into specific forms to explore their features. Some important and powerful functions like `.cut()` and `.groupby()` will be illustrated in detail. Moreover, we will learn some smoothing techniques to better present information in our data. \n",
    "\n",
    "To receive credit for a lab, answer all questions correctly and submit it to Gradescope before the deadline.\n",
    "\n",
    "**This lab is due 5/2 at 12:00 AM PST.**"
   ]
  },
  {
   "cell_type": "markdown",
   "metadata": {},
   "source": [
    "### Collaboration Policy\n",
    "\n",
    "Data science is a collaborative activity. While you may talk with others about the labs, we ask that you **write your solutions individually** and do not copy them from others. \n",
    "\n",
    "By submitting your work in this course, whether it is homework, a lab assignment, or a quiz/exam, you agree and acknowledge that **this submission is your own work and that you have read the policies regarding Academic Integrity**: https://studentconduct.sa.ucsb.edu/academic-integrity. The Office of Student Conduct has policies, tips, and resources for proper citation use, recognizing actions considered to be cheating or other forms of academic theft, and students’ responsibilities. You are required to read the policies and to abide by them."
   ]
  },
  {
   "cell_type": "markdown",
   "metadata": {},
   "source": [
    "## Setup"
   ]
  },
  {
   "cell_type": "code",
   "execution_count": 1,
   "metadata": {},
   "outputs": [],
   "source": [
    "# Run this cell to set up your notebook.\n",
    "# Do not change anything in this cell \n",
    "\n",
    "import csv\n",
    "import numpy as np\n",
    "import pandas as pd\n",
    "import altair as alt\n",
    "alt.data_transformers.disable_max_rows()\n",
    "\n",
    "import zipfile\n",
    "from pathlib import Path"
   ]
  },
  {
   "cell_type": "markdown",
   "metadata": {},
   "source": [
    "# Basketball Shots Data"
   ]
  },
  {
   "cell_type": "markdown",
   "metadata": {},
   "source": [
    "Are you a basketball fan? If you are, congratulations, you will be excited throughout this lab as both datasets are on this topic. Don't worry if you are not a fan and only have limited knowledge on the terminologies, you will only need some common sense to finish the questions here. This 2-minute video about [The Basic Rules of Basketball](https://www.youtube.com/watch?v=XbtmGKif7Ck) might also help if you are not familiar with the rules or some of the terminology.\n",
    "\n",
    "We first load the dataset and explore some basic features."
   ]
  },
  {
   "cell_type": "code",
   "execution_count": 2,
   "metadata": {
    "scrolled": true
   },
   "outputs": [],
   "source": [
    "# If you are working on a student version, try pd.read_csv(\"../data/bball_data.csv\")\n",
    "\n",
    "bball = pd.read_csv(\"data/bball_data.csv\")\n",
    "bball.head(10)"
   ]
  },
  {
   "cell_type": "markdown",
   "metadata": {},
   "source": [
    "As shown in the above cell, this dataset is about shots made by the players. The first column indicates if the shot was made successfully; the second column represents the region where it was made, and the third column indicates how far the defender was from the player (measured in meters).\n",
    "\n",
    "## Data Transformation\n",
    "Intuitively, one would perform better when not blocked by other people, and thus have more chances scoring the shot. Let us see if our data supports this intuition. \n",
    "\n",
    "The '`defender_distance`' feature is measured in meters. A quick glimpse at its range suggests that it is always between 0 and 10 (qucik check: what command would you run to get this information?). We will group our data up based on this feature."
   ]
  },
  {
   "cell_type": "markdown",
   "metadata": {},
   "source": [
    "### Step 1: use `pd.cut()`\n",
    "\n",
    "For this step, check out the documentation for the `pd.cut()` function (reminder: you can run `help(pd.cut)` to bring up the help page right in the notebook)."
   ]
  },
  {
   "cell_type": "code",
   "execution_count": 3,
   "metadata": {},
   "outputs": [],
   "source": [
    "# help(pd.cut)"
   ]
  },
  {
   "cell_type": "markdown",
   "metadata": {
    "deletable": false,
    "editable": false
   },
   "source": [
    "Create a new column, called '`defender_bin`', to represent the binned version of defender distance, such as (5, 6], (1, 2].  In particular, we need to create 10 bins since the range is between 0 and 10.\n",
    "\n",
    "*Hint: You should be able to call pd.cut() with the column that needs to be binned, followed by the number of bins.*\n",
    "\n",
    "\n",
    "<!--\n",
    "BEGIN QUESTION\n",
    "name: q1a\n",
    "manual: false\n",
    "points: 2\n",
    "gradescope: show\n",
    "-->"
   ]
  },
  {
   "cell_type": "code",
   "execution_count": 4,
   "metadata": {
    "scrolled": true
   },
   "outputs": [],
   "source": [
    "## Split the data into 10 bins using pd.cut\n",
    "\n",
    "...\n",
    "bball[['defender_bin']]"
   ]
  },
  {
   "cell_type": "markdown",
   "metadata": {
    "deletable": false,
    "editable": false
   },
   "source": [
    "### Step 2: use `pd.groupby`\n",
    "\n",
    "In basketball terms, the ratio of field goals that were *made* to the field goals that were *attempted* is called the **field goal percentage**. A glossary of basketball terms can be found here: https://stats.nba.com/help/glossary/.\n",
    "\n",
    "Now we want to provide an estimate of the **field goal percentage** given the defender distance in our dataset. We will divide the dataset into subgroups based on the '`defender_bin`'. Then, for each subgroup, we compute **_the mean_** of '`made_shot`' and '`defender_distance`' for observations within this subgroup (which effectively gives us the estimate of the field goal percentage). **The result is a dataframe with two columns ('`made_shot`' and '`defender_distance`'), and it is indexed by the '`defender_bin`' values.** \n",
    "\n",
    "We would expect that the further away the defender is, the percentage of made shots should increase.\n",
    "\n",
    "A natual and tedious way would be a `for` loop with some conditional statements. However, that is very inefficient when dealing with large datasets and is not elegant enough to be adopted by seasoned data scientists. This operation is extremely popular and thus deserves a unique function, which in pandas is called `.groupby()`. Lots of variations are used extensively in practical data analysis. \n",
    "\n",
    "Contents here: https://pandas.pydata.org/pandas-docs/stable/reference/api/pandas.DataFrame.groupby.html can refresh your memory on some basics.\n",
    "\n",
    "<!--\n",
    "BEGIN QUESTION\n",
    "name: q1b\n",
    "manual: false\n",
    "points: 3\n",
    "gradescope: show\n",
    "-->\n"
   ]
  },
  {
   "cell_type": "code",
   "execution_count": 7,
   "metadata": {},
   "outputs": [],
   "source": [
    "## Group by bin and take the mean (hint: use chaining of operations)\n",
    "bball_percentages = ...\n",
    "bball_percentages.head(10)"
   ]
  },
  {
   "cell_type": "markdown",
   "metadata": {
    "deletable": false,
    "editable": false
   },
   "source": [
    "## Visualization\n",
    "Now we try to plot the field goal percentage estimates versus defender distances (binned version) using '`bball_percentages`'. The x-axis is the defender distances, and the y-axis is the probability estimates. **Note: since the y-axis is encoding probabilities, we can fix its range to be from 0 to 1** by using `scale=alt.Scale(domain=(0, 1))` when specifying the y-axis in Altair.\n",
    "\n",
    "<!--\n",
    "BEGIN QUESTION\n",
    "name: q2\n",
    "manual: true\n",
    "points: 5\n",
    "gradescope: show\n",
    "-->\n",
    "<!-- EXPORT TO PDF -->"
   ]
  },
  {
   "cell_type": "code",
   "execution_count": 11,
   "metadata": {},
   "outputs": [],
   "source": [
    "## Plot the shot probability vs defender distances\n",
    "\n",
    "alt.Chart(bball_percentages).mark_point().encode(\n",
    "    x = ...\n",
    "    y = ...\n",
    ")"
   ]
  },
  {
   "cell_type": "markdown",
   "metadata": {},
   "source": [
    "This should be really surprising. We expect defenders to affect the probability of making a shot, otherwise, why bother playing defense at all?! What could be going on? \n",
    "\n",
    "Let's explore other ways of looking at the data."
   ]
  },
  {
   "cell_type": "markdown",
   "metadata": {
    "deletable": false,
    "editable": false
   },
   "source": [
    "## Another Transformation\n",
    "\n",
    "Alternatively, we now group the data by both, the defender bin **and** the shot region, and again compute the estimates of the field goal percentage for each subgroup. The shot regions are shown on the court below:\n",
    "\n",
    "<img src=\"../images/court_colored.png\" style=\"width: 250px;\">\n",
    "\n",
    "In the image above, the \"Corner Three\" is blue, \"Arc Three\" is purple, \"Paint\" is yellow, \"Mid-range\" is green and \"Near hoop\" is red.  The basket is at the bottom of the image and marked by a black dot.\n",
    "\n",
    "Note that earlier we were grouping using a single column (the '`defender_bin`'). Now, we need to re-run effectively the same command, this time, grouping by multiple columns.\n",
    "\n",
    "*Hint: the way to group the data by multiple columns can be found here*: [Group and Aggregate by One or More Columns in Pandas](https://jamesrledoux.com/code/group-by-aggregate-pandas).\n",
    "*Since you only need the mean, you don't really need to use the `agg` method here, however, it will come in handy in the later questions.* \n",
    "\n",
    "<!--\n",
    "BEGIN QUESTION\n",
    "name: q3\n",
    "manual: false\n",
    "points: 3\n",
    "gradescope: show\n",
    "-->"
   ]
  },
  {
   "cell_type": "code",
   "execution_count": 12,
   "metadata": {},
   "outputs": [],
   "source": [
    "bball_percentages_by_region = ...\n",
    "bball_percentages_by_region.head(10)"
   ]
  },
  {
   "cell_type": "markdown",
   "metadata": {
    "deletable": false,
    "editable": false
   },
   "source": [
    "## Visualization by Two Variables\n",
    "Now we create a plot for the newly created variable, `bball_percentages_by_region`. Notice that currently there are two indices for '`bball_percentages_by_region`', as it is created using the `groupby` operation with respect to two variables. \n",
    "\n",
    "We can convert '`region`' back to a column by `.reset_index(level = 'region')`, and then plotting it. This should be very similar to our previous visualization where the x-axis is the defender distances and the y-axis is the probability estimates; new here is the color, which encodes the region from which the shot is made. \n",
    "\n",
    "\n",
    "<!--\n",
    "BEGIN QUESTION\n",
    "name: q4\n",
    "manual: true\n",
    "points: 5\n",
    "gradescope: show\n",
    "-->\n",
    "<!-- EXPORT TO PDF -->"
   ]
  },
  {
   "cell_type": "code",
   "execution_count": 16,
   "metadata": {},
   "outputs": [],
   "source": [
    "..."
   ]
  },
  {
   "cell_type": "markdown",
   "metadata": {},
   "source": [
    "Now let us check it carefully! At every shot region, the probability of making the shot increases as the defender gets further away. This is what we expected when we started, so that's good. But how can we reconcile this with the plot above? When we ignored where the shot came from, the defender distance appeared to have no effect! \n",
    "\n",
    "**Please discuss this phenomenon with your group members!**"
   ]
  },
  {
   "cell_type": "markdown",
   "metadata": {
    "deletable": false,
    "editable": false
   },
   "source": [
    "## An Observation\n",
    "\n",
    "One possible statistic we can think of is the numbers of players in the defender bins. Are they very similar or drastically different? \n",
    "\n",
    "To get this statistic we apply again our `.groupby` method with respect to multiple columns. To be specific, we want to count the number of shots that were made in each subgroup, compute the probability estimates for field goal percentage, and also compute the average defender distance for the subgroup. You should figure out which functions should be applied to which column after the data is divided into subgroups. The function `.agg()` is crucial for a concise implementation of the above procedures, and its references can be found here:\n",
    "\n",
    "https://pandas.pydata.org/pandas-docs/version/0.22.0/generated/pandas.core.groupby.DataFrameGroupBy.agg.html (you can also use the example that we linked above for how to [Group and Aggregate by One or More Columns in Pandas](https://jamesrledoux.com/code/group-by-aggregate-pandas)).\n",
    "\n",
    "\n",
    "<!--\n",
    "BEGIN QUESTION\n",
    "name: q5\n",
    "manual: false\n",
    "points: 7\n",
    "gradescope: show\n",
    "-->"
   ]
  },
  {
   "cell_type": "code",
   "execution_count": 17,
   "metadata": {},
   "outputs": [],
   "source": [
    "bball_percentages_by_region2 = ...\n",
    "\n",
    "bball2 = bball_percentages_by_region2.reset_index('region')\n",
    "bball2.columns = ['region', 'made_shot', 'count', 'defender_distance']\n",
    "bball2.head(10)"
   ]
  },
  {
   "cell_type": "markdown",
   "metadata": {
    "deletable": false,
    "editable": false
   },
   "source": [
    "## Visualize the Result\n",
    "\n",
    "Now we create another plot (by updating our previous plot) making the points differ in both color and size: the `color` is based on the region, and the `size` of the point is encoded using the count that we just computed. \n",
    "\n",
    "<!--\n",
    "BEGIN QUESTION\n",
    "name: q6\n",
    "manual: true\n",
    "points: 5\n",
    "gradescope: show\n",
    "-->\n",
    "<!-- EXPORT TO PDF -->"
   ]
  },
  {
   "cell_type": "code",
   "execution_count": 25,
   "metadata": {},
   "outputs": [],
   "source": [
    "..."
   ]
  },
  {
   "cell_type": "markdown",
   "metadata": {},
   "source": [
    "What do we observe in the above plot? Do you find any patterns that might explain the inconsistency between the previous two visualizations? Please discuss with your group members! "
   ]
  },
  {
   "cell_type": "markdown",
   "metadata": {},
   "source": [
    "# A More Comprehensive Basketball Shots Data\n",
    "\n",
    "We had some fun playing around with the small dataset and explored the interesting and counterintuitive statistical phenomenon. Now here is a more comprehensive dataset. Get ready! We are going to learn more fascinating visualizations!"
   ]
  },
  {
   "cell_type": "markdown",
   "metadata": {
    "deletable": false,
    "editable": false
   },
   "source": [
    "## Importing Data\n",
    "In practice, large datasets are often stored in some compressed formats rather than the csv files. Our new dataset is in the `pickle` format. Check out https://pandas.pydata.org/pandas-docs/stable/reference/api/pandas.read_pickle.html and figure out how to load the pickle file titled `allplyrs2018.p` into a pandas dataframe called `allplyrs`, and load the pickle file titled `allshots2018.p` into a pandas dataframe called `allshots`.\n",
    "\n",
    "\n",
    "<!--\n",
    "BEGIN QUESTION\n",
    "name: q7\n",
    "manual: false\n",
    "points: 5\n",
    "gradescope: show\n",
    "-->"
   ]
  },
  {
   "cell_type": "code",
   "execution_count": 26,
   "metadata": {},
   "outputs": [],
   "source": [
    "# If you are working on a student version, try \"../data/\"\n",
    "\n",
    "allshots = ..."
   ]
  },
  {
   "cell_type": "markdown",
   "metadata": {
    "deletable": false,
    "editable": false
   },
   "source": [
    "## 1D Investigation of the Data\n",
    "\n",
    "We are interested in figuring out how many shots most players make and answering questions such as: are there many players who made over 1000 shots?\n",
    "\n",
    "### Create a Histogram\n",
    "\n",
    "A histogram of player counts versus the number of shots made will help us visualize this underlying information. Intuitively, we would start with counting the number of shots each player attempted, and then create a histogram of shots attempted by these players. To create the **shot_counts** variable, first apply the `.groupby` method on a particular feature; then use `.size` function to compute the size of the subgroup; lastly use `.reset_index` method and give the new feature a proper name.\n",
    "\n",
    "For the resulting histogram, label your x-axis `\"Shot Counts\"`, set the maximum number of bins to be 20, opacity to be 0.5, and color the bars blue. \n",
    "\n",
    "*Relevant links:* \n",
    "\n",
    "https://altair-viz.github.io/gallery/layered_histogram.html for setting maximum bins.\n",
    "\n",
    "https://altair-viz.github.io/user_guide/customization.html for global and local customized configurations.\n",
    "\n",
    "\n",
    "<!--\n",
    "BEGIN QUESTION\n",
    "name: q8\n",
    "manual: true\n",
    "points: 5\n",
    "gradescope: show\n",
    "-->\n",
    "<!-- EXPORT TO PDF -->"
   ]
  },
  {
   "cell_type": "code",
   "execution_count": 32,
   "metadata": {},
   "outputs": [],
   "source": [
    "shot_counts = ...\n",
    "\n",
    "alt.Chart(shot_counts).mark_bar().encode(\n",
    "      x= ...\n",
    "      y= ...\n",
    ").configure_mark(\n",
    "    opacity = ...\n",
    "    color = ...\n",
    ")"
   ]
  },
  {
   "cell_type": "markdown",
   "metadata": {
    "deletable": false,
    "editable": false
   },
   "source": [
    "### Plot the Estimated Density \n",
    "\n",
    "A smoothed version of the histogram is called density estimation, which is very useful in statistics. We are about to create a plot for the estimated density. Set the opacity to 0.5 and the color to red. \n",
    "\n",
    "Check out https://altair-viz.github.io/user_guide/transform/density.html for more information. \n",
    "\n",
    "\n",
    "<!--\n",
    "BEGIN QUESTION\n",
    "name: q9\n",
    "manual: true\n",
    "points: 5\n",
    "gradescope: show\n",
    "-->\n",
    "\n",
    "<!-- EXPORT TO PDF -->"
   ]
  },
  {
   "cell_type": "code",
   "execution_count": 33,
   "metadata": {},
   "outputs": [],
   "source": [
    "..."
   ]
  },
  {
   "cell_type": "markdown",
   "metadata": {},
   "source": [
    "### Combine Them Together\n",
    "Let's overlay the above two plots now. Be careful that since their $y$ scales are different (you can check them from the above two plots), we will normalize our previous histogram and overlay them. This sounds natural but actually it requires some work. Let us see a simpler example first to understand how to create a normalized histogram. "
   ]
  },
  {
   "cell_type": "code",
   "execution_count": 34,
   "metadata": {},
   "outputs": [],
   "source": [
    "import pandas as pd\n",
    "import altair as alt\n",
    "\n",
    "source = pd.DataFrame({'age': ['12', '32', '43', '54', '32', '32', '12']})\n",
    "\n",
    "alt.Chart(source).transform_joinaggregate(\n",
    "    total='count(*)'\n",
    ").transform_calculate(\n",
    "    pct='1 / datum.total / 5'\n",
    ").mark_bar().encode(\n",
    "    alt.X('age:Q', bin=True),\n",
    "    alt.Y('sum(pct):Q')\n",
    ")"
   ]
  },
  {
   "cell_type": "markdown",
   "metadata": {
    "deletable": false,
    "editable": false
   },
   "source": [
    "Pay attention to `total='count(*)'`, `pct='1 / datum.total / 5'` and `alt.Y('sum(pct):Q')`. Figure out how the above code works and apply a similar procedure to our data.\n",
    "\n",
    "<!--\n",
    "BEGIN QUESTION\n",
    "name: q10\n",
    "manual: true\n",
    "points: 5\n",
    "gradescope: show\n",
    "-->\n",
    "\n",
    "*Hints*\n",
    "\n",
    "1. Create the normalized histogram and the density plot as layer1 and layer2, respectively. \n",
    "2. Use alt.layer() to combine the two layers together.\n",
    "<!-- EXPORT TO PDF -->"
   ]
  },
  {
   "cell_type": "code",
   "execution_count": 35,
   "metadata": {},
   "outputs": [],
   "source": [
    "..."
   ]
  },
  {
   "cell_type": "markdown",
   "metadata": {
    "deletable": false,
    "editable": false
   },
   "source": [
    "What do you observe about the distribution of shot attempts in the NBA across all players? Why might this be? Discuss in 1-3 sentences below.\n",
    "\n",
    "\n",
    "<!--\n",
    "BEGIN QUESTION\n",
    "name: q11\n",
    "manual: true\n",
    "points: 5\n",
    "gradescope: show\n",
    "-->\n",
    "<!-- EXPORT TO PDF -->"
   ]
  },
  {
   "cell_type": "markdown",
   "metadata": {},
   "source": [
    "Solution:"
   ]
  },
  {
   "cell_type": "markdown",
   "metadata": {
    "deletable": false,
    "editable": false
   },
   "source": [
    "# Running Built-in Tests\n",
    "1. All tests are in `tests` directory\n",
    "1. Each python file in `tests` is a test\n",
    "1. `grader.check('testname')` runs test `'testname'`, e.g. `'q1'`\n",
    "1. `grader.check_all()` runs all visible tests"
   ]
  },
  {
   "cell_type": "code",
   "execution_count": null,
   "metadata": {
    "deletable": false,
    "editable": false
   },
   "outputs": [],
   "source": [
    "# Run built-in checks\n",
    "grader.check_all()"
   ]
  },
  {
   "cell_type": "code",
   "execution_count": null,
   "metadata": {},
   "outputs": [],
   "source": [
    "# Generate pdf in classic notebook (does not work in JupyterLab)\n",
    "import nb2pdf\n",
    "nb2pdf.convert('lab05.ipynb')\n",
    "\n",
    "# To generate pdf using command-line, run in terminal,\n",
    "# nb2pdf lab05.ipynb"
   ]
  },
  {
   "cell_type": "markdown",
   "metadata": {
    "deletable": false,
    "editable": false
   },
   "source": [
    "# Submission Checklist\n",
    "1. Check filename is 'lab05.ipynb'\n",
    "1. Save file to confirm all changes are on disk\n",
    "1. Run *Kernel > Restart & Run All* to execute all code from top to bottom\n",
    "1. Check `grader.check_all()` output\n",
    "1. Save file again to write any new output to disk\n",
    "1. Check generated pdf that all responses are displayed correctly\n",
    "1. Submit to Gradescope"
   ]
  }
 ],
 "metadata": {
  "kernelspec": {
   "display_name": "Python 3",
   "language": "python",
   "name": "python3"
  },
  "language_info": {
   "codemirror_mode": {
    "name": "ipython",
    "version": 3
   },
   "file_extension": ".py",
   "mimetype": "text/x-python",
   "name": "python",
   "nbconvert_exporter": "python",
   "pygments_lexer": "ipython3",
   "version": "3.7.6"
  },
  "toc": {
   "base_numbering": 1,
   "nav_menu": {},
   "number_sections": true,
   "sideBar": true,
   "skip_h1_title": false,
   "title_cell": "Table of Contents",
   "title_sidebar": "Contents",
   "toc_cell": false,
   "toc_position": {},
   "toc_section_display": true,
   "toc_window_display": false
  }
 },
 "nbformat": 4,
 "nbformat_minor": 2
}
