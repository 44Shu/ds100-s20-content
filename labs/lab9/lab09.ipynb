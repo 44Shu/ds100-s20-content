{
 "cells": [
  {
   "cell_type": "code",
   "execution_count": null,
   "metadata": {
    "deletable": false,
    "editable": false
   },
   "outputs": [],
   "source": [
    "# initializing otter-grader\n",
    "import otter\n",
    "grader = otter.Notebook()"
   ]
  },
  {
   "cell_type": "markdown",
   "metadata": {},
   "source": [
    "# Lab 9: Putting it all Together\n",
    "\n",
    "In this lab assignment we will pick bits and pieces of what a project would look like. This is not a full project, but it covers the following ideas and tries to link them to how to analyze a dataset:\n",
    "* Visualization and Exploratory Data Analysis (EDA)\n",
    "* Multilinear regression\n",
    "* Correlation\n",
    "* Bonus: PCA\n",
    "\n",
    "This can be considered practice for your final project, but your project should not be as simple as this lab and should analyze in more depth than we can cover here."
   ]
  },
  {
   "cell_type": "markdown",
   "metadata": {},
   "source": [
    "## Due Date\n",
    "This assignment is due **Friday, May 29 at 11:59pm PST.**\n",
    "\n",
    "**Collaboration Policy**\n",
    "\n",
    "Data science is a collaborative activity. While you may talk with others about the homework, we ask that you **write your solutions individually**. If you do discuss the assignments with others please **include their names** in the cell below.\n",
    "\n"
   ]
  },
  {
   "cell_type": "markdown",
   "metadata": {},
   "source": [
    "**Collaborators**: ..."
   ]
  },
  {
   "cell_type": "code",
   "execution_count": 1,
   "metadata": {},
   "outputs": [],
   "source": [
    "import numpy as np\n",
    "import pandas as pd\n",
    "import altair as alt\n",
    "import scipy\n",
    "import sklearn\n",
    "from sklearn.linear_model import LinearRegression"
   ]
  },
  {
   "cell_type": "markdown",
   "metadata": {},
   "source": [
    "## Life Expectancy Data\n",
    "\n",
    "This data was taken from [this source](https://www.kaggle.com/kumarajarshi/life-expectancy-who), and the goal of this dataset is to see what factors are contributors to life expectancy."
   ]
  },
  {
   "cell_type": "code",
   "execution_count": 2,
   "metadata": {},
   "outputs": [],
   "source": [
    "df = pd.read_csv('life_expectancy.csv')\n",
    "df.head()"
   ]
  },
  {
   "cell_type": "markdown",
   "metadata": {},
   "source": [
    "In today's lab we will aim to answer these three questions:\n",
    "1. What is the general trend of life expectancy over time?\n",
    "2. What is a multilinear regression model that can predict life expectancy, and how accurate is it?\n",
    "3. Is life expectancy a better indicator of how long people live, or the childhood mortality rate in developing nations?"
   ]
  },
  {
   "cell_type": "markdown",
   "metadata": {},
   "source": [
    "## Question 0\n",
    "Before we can begin with data analysis, we have to do a little bit of data exploration. Let's start familiarizing outselves with the data by asking the basic questions:\n",
    "1. Are there any missing values? If so, how many?\n",
    "2. Are there any unique values? Any values that might seem strange?\n",
    "3. Are there any outliers? How does the distribution of the data change if you remove them?"
   ]
  },
  {
   "cell_type": "markdown",
   "metadata": {
    "deletable": false,
    "editable": false
   },
   "source": [
    "### Question 0a\n",
    "In the cell box below, include your code for investigating these questions. As with any data exploration, there is more than one way to do approach these questions. There is no correct answer for this, so you will get points for clear, commented code.\n",
    "<!--\n",
    "BEGIN QUESTION\n",
    "name: q0a\n",
    "points: 3\n",
    "manual: true\n",
    "-->\n",
    "<!-- EXPORT TO PDF -->"
   ]
  },
  {
   "cell_type": "code",
   "execution_count": 3,
   "metadata": {},
   "outputs": [],
   "source": [
    "## ADD DATA EXPLORATION CODE HERE.\n"
   ]
  },
  {
   "cell_type": "markdown",
   "metadata": {
    "deletable": false,
    "editable": false
   },
   "source": [
    "### Question 0b\n",
    "Answer the three questions in the cell below.\n",
    "For convenience:\n",
    "1. Are there any missing values? If so, how many?\n",
    "2. Are there any unique values? Any values that might seem strange?\n",
    "3. Are there any outliers? How does the distribution of the data change if you remove them?\n",
    "<!--\n",
    "BEGIN QUESTION\n",
    "name: q0a\n",
    "points: 3\n",
    "manual: true\n",
    "-->\n",
    "<!-- EXPORT TO PDF -->"
   ]
  },
  {
   "cell_type": "markdown",
   "metadata": {},
   "source": [
    "*Write your answer here, replacing this text.*"
   ]
  },
  {
   "cell_type": "markdown",
   "metadata": {
    "deletable": false,
    "editable": false
   },
   "source": [
    "## Question 1\n",
    "Let's start with the easiest question. What is the general trend of life expectancy over time?\n",
    "\n",
    "\n",
    "### Question 1a\n",
    "There are a lot of countries, so let's group them into two categories and take the mean life expectancy: Developing and Developed. Plot the year on the x-axis, life expectancy on the y-axis, and the binary value \"Status\" as the color. Be sure to set the scale of your axis so that the visualization makes sense.\n",
    "\n",
    "<!--\n",
    "BEGIN QUESTION\n",
    "name: q1a\n",
    "points: 3\n",
    "manual: true\n",
    "-->\n",
    "<!-- EXPORT TO PDF -->"
   ]
  },
  {
   "cell_type": "code",
   "execution_count": 4,
   "metadata": {},
   "outputs": [],
   "source": [
    "# GROUP THE DATA AND CREATE YOUR PLOT BELOW\n",
    "..."
   ]
  },
  {
   "cell_type": "markdown",
   "metadata": {
    "deletable": false,
    "editable": false
   },
   "source": [
    "### Question 1b\n",
    "What can you conclude about our original question?\n",
    "\n",
    "<!--\n",
    "BEGIN QUESTION\n",
    "name: q1b\n",
    "points: 3\n",
    "manual: true\n",
    "-->\n",
    "<!-- EXPORT TO PDF -->"
   ]
  },
  {
   "cell_type": "markdown",
   "metadata": {},
   "source": [
    "*Write your answer here, replacing this text.*"
   ]
  },
  {
   "cell_type": "markdown",
   "metadata": {},
   "source": [
    "## Question 2\n",
    "Now let's ask the second question. What is the multilinear regression line that predicts life expectancy?\n",
    "\n",
    "### Question 2a\n",
    "In order to do this, let's convert the \"Status\" column into an indicator variable by converting \"Developing\" to 0 and \"Developed\" to 1. Then like we did in lab 8, calculate the multilinear regression and the **mean squared error** of the regression. You will learn more about analyzing the significance of each variable in this regression line in PSTAT 126.\n",
    "\n",
    "Since you already did mean squared loss and adding bias in the previous lab, we have them provided for you. However, you have to create the rest of the regression."
   ]
  },
  {
   "cell_type": "code",
   "execution_count": 5,
   "metadata": {},
   "outputs": [],
   "source": [
    "def mean_squared_error(y, y_hat):\n",
    "    return np.mean((y-y_hat)**2)\n",
    "\n",
    "def add_bias(data):\n",
    "    data.insert(0,'ones',1)\n",
    "    return data"
   ]
  },
  {
   "cell_type": "markdown",
   "metadata": {
    "deletable": false,
    "editable": false
   },
   "source": [
    "Before we do a linear regression, we need to clean the data. This is a very important step because this dataset, and many others that you will encounter will contain missing values. In addition to converting the \"Status\" column to an indicator, let's impute data with the mean of the column. While it would be better to impute values using a more representative value, for the interest of simplicity, we will just use the mean of each column.\n",
    "* Hint: Look at how to use `fillna()`\n",
    "\n",
    "<!--\n",
    "BEGIN QUESTION\n",
    "name: q2a\n",
    "points: 3\n",
    "manual: false\n",
    "-->"
   ]
  },
  {
   "cell_type": "code",
   "execution_count": 6,
   "metadata": {},
   "outputs": [],
   "source": [
    "# Replace the \"Status\" column with numerical values\n",
    "df = ...\n",
    "# Remove missing values\n",
    "df_clean = df.fillna(df.mean())"
   ]
  },
  {
   "cell_type": "markdown",
   "metadata": {
    "deletable": false,
    "editable": false
   },
   "source": [
    "<!--\n",
    "BEGIN QUESTION\n",
    "name: q2a2\n",
    "points: 3\n",
    "manual: false\n",
    "-->"
   ]
  },
  {
   "cell_type": "code",
   "execution_count": 10,
   "metadata": {},
   "outputs": [],
   "source": [
    "# Pick out the target value\n",
    "y = ...\n",
    "# Remove \"Year\", \"Country\", and the target value from the dataframe\n",
    "x = ...\n",
    "# Fit a linear regression model using sklearn\n",
    "model = LinearRegression()\n",
    "...\n",
    "# Get y_hat by predicting using the model\n",
    "y_hat = ...\n",
    "loss = mean_squared_error(y,y_hat)\n",
    "loss"
   ]
  },
  {
   "cell_type": "markdown",
   "metadata": {},
   "source": [
    "### Question 2b\n",
    "\n",
    "Let's take a look at the coefficients of our multilinear regression."
   ]
  },
  {
   "cell_type": "code",
   "execution_count": 12,
   "metadata": {},
   "outputs": [],
   "source": [
    "model.coef_"
   ]
  },
  {
   "cell_type": "markdown",
   "metadata": {
    "deletable": false,
    "editable": false
   },
   "source": [
    "List 2 observations you notice from the regression coefficients and analyze them.\n",
    "\n",
    "<!--\n",
    "BEGIN QUESTION\n",
    "name: q2b\n",
    "points: 4\n",
    "manual: true\n",
    "-->\n",
    "<!-- EXPORT TO PDF -->"
   ]
  },
  {
   "cell_type": "markdown",
   "metadata": {},
   "source": [
    "*Write your answer here, replacing this text.*"
   ]
  },
  {
   "cell_type": "markdown",
   "metadata": {
    "deletable": false,
    "editable": false
   },
   "source": [
    "## Question 3\n",
    "\n",
    "Now let us consider the last question. Is life expectancy a better indicator of child mortality, or of increasing the length of time people are expected to live in developing nations? \n",
    "\n",
    "### Question 3a\n",
    "\n",
    "First filter the dataset to only consider developing nations (Remember that this is the value 0 now). Then find the $r^2$ values for the following columns:\n",
    "* Infant Deaths\n",
    "* Deaths under 5\n",
    "\n",
    "Hint: use `corr()`\n",
    "\n",
    "<!--\n",
    "BEGIN QUESTION\n",
    "name: q3a\n",
    "points: 3\n",
    "manual: false\n",
    "-->"
   ]
  },
  {
   "cell_type": "code",
   "execution_count": 13,
   "metadata": {},
   "outputs": [],
   "source": [
    "# First filter the dataset\n",
    "df_developing = df_clean[df_clean[\"Status\"] == 0]\n",
    "\n",
    "# Calculate r^2 for \"Infant deaths\"\n",
    "inf_deaths_r2 = ...\n",
    "print(f'r^2 of Infant Deaths: {inf_deaths_r2}')\n",
    "# Calculate r^2 for \"Deaths under 5\"\n",
    "child_deaths_r2 = ...\n",
    "print(f'r^2 of Deaths under 5: {child_deaths_r2}')"
   ]
  },
  {
   "cell_type": "markdown",
   "metadata": {
    "deletable": false,
    "editable": false
   },
   "source": [
    "### Question 3b\n",
    "What do these $r^2$ values tell you about the importance of childhood mortality statistics in predicting life expectancy?\n",
    "\n",
    "<!--\n",
    "BEGIN QUESTION\n",
    "name: q3b\n",
    "points: 3\n",
    "manual: true\n",
    "-->\n",
    "<!-- EXPORT TO PDF -->"
   ]
  },
  {
   "cell_type": "markdown",
   "metadata": {},
   "source": [
    "*Write your answer here, replacing this text.*"
   ]
  },
  {
   "cell_type": "markdown",
   "metadata": {},
   "source": [
    "## BONUS: PCA\n",
    "\n",
    "Using the same value of x as we used in question 2, what is the minimum number of principal components needed to run multilinear regression on to get a loss value within 10% of our original loss value when the data is centered and scaled? Feel free to use the two imports given below. \n",
    "\n",
    "Show all your work and get the correct number of principal components to get bonus points."
   ]
  },
  {
   "cell_type": "code",
   "execution_count": 16,
   "metadata": {},
   "outputs": [],
   "source": [
    "from sklearn.decomposition import PCA\n",
    "from sklearn.preprocessing import StandardScaler\n",
    "\n",
    "# SCRATCH WORK\n",
    "..."
   ]
  },
  {
   "cell_type": "markdown",
   "metadata": {
    "deletable": false,
    "editable": false
   },
   "source": [
    "<!--\n",
    "BEGIN QUESTION\n",
    "name: bonus\n",
    "points: 3\n",
    "manual: true\n",
    "-->\n",
    "<!-- EXPORT TO PDF -->"
   ]
  },
  {
   "cell_type": "markdown",
   "metadata": {},
   "source": [
    "*Write your answer here, replacing this text.*"
   ]
  },
  {
   "cell_type": "markdown",
   "metadata": {
    "deletable": false,
    "editable": false
   },
   "source": [
    "# Running Built-in Tests\n",
    "1. All tests are in `tests` directory\n",
    "1. Each python file in `tests` is a test\n",
    "1. `grader.check('testname')` runs test `'testname'`, e.g. `'q1'`\n",
    "1. `grader.check_all()` runs all visible tests"
   ]
  },
  {
   "cell_type": "code",
   "execution_count": null,
   "metadata": {
    "deletable": false,
    "editable": false
   },
   "outputs": [],
   "source": [
    "# Run built-in checks\n",
    "grader.check_all()"
   ]
  },
  {
   "cell_type": "code",
   "execution_count": null,
   "metadata": {},
   "outputs": [],
   "source": [
    "# Generate pdf in classic notebook (does not work in JupyterLab)\n",
    "import nb2pdf\n",
    "nb2pdf.convert('lab09.ipynb')\n",
    "\n",
    "# To generate pdf using command-line, run in terminal,\n",
    "# nb2pdf lab09.ipynb"
   ]
  },
  {
   "cell_type": "markdown",
   "metadata": {
    "deletable": false,
    "editable": false
   },
   "source": [
    "# Submission Checklist\n",
    "1. Check filename is 'lab09.ipynb'\n",
    "1. Save file to confirm all changes are on disk\n",
    "1. Run *Kernel > Restart & Run All* to execute all code from top to bottom\n",
    "1. Check `grader.check_all()` output\n",
    "1. Save file again to write any new output to disk\n",
    "1. Check generated pdf that all responses are displayed correctly\n",
    "1. Submit to Gradescope"
   ]
  }
 ],
 "metadata": {
  "kernelspec": {
   "display_name": "Python 3",
   "language": "python",
   "name": "python3"
  },
  "language_info": {
   "codemirror_mode": {
    "name": "ipython",
    "version": 3
   },
   "file_extension": ".py",
   "mimetype": "text/x-python",
   "name": "python",
   "nbconvert_exporter": "python",
   "pygments_lexer": "ipython3",
   "version": "3.7.3"
  },
  "toc": {
   "base_numbering": 1,
   "nav_menu": {},
   "number_sections": true,
   "sideBar": true,
   "skip_h1_title": false,
   "title_cell": "Table of Contents",
   "title_sidebar": "Contents",
   "toc_cell": false,
   "toc_position": {},
   "toc_section_display": true,
   "toc_window_display": false
  }
 },
 "nbformat": 4,
 "nbformat_minor": 2
}
