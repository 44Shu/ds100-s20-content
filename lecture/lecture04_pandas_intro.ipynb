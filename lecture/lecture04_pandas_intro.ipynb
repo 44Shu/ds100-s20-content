{
 "cells": [
  {
   "cell_type": "markdown",
   "metadata": {},
   "source": [
    "## Software Packages\n",
    "\n",
    "We will be using a wide range of different Python software packages.  The following is a list of packages that are already installed on [ds100.lsit.ucsb.edu](ds100.list.ucsb.edu) that we will routinely use in lectures and homeworks:"
   ]
  },
  {
   "cell_type": "markdown",
   "metadata": {},
   "source": [
    "### Linear Algebra"
   ]
  },
  {
   "cell_type": "code",
   "execution_count": 1,
   "metadata": {},
   "outputs": [],
   "source": [
    "import numpy as np"
   ]
  },
  {
   "cell_type": "markdown",
   "metadata": {},
   "source": [
    "### Data manipulation"
   ]
  },
  {
   "cell_type": "code",
   "execution_count": 2,
   "metadata": {},
   "outputs": [],
   "source": [
    "import pandas as pd"
   ]
  },
  {
   "cell_type": "markdown",
   "metadata": {},
   "source": [
    "### Visualization"
   ]
  },
  {
   "cell_type": "code",
   "execution_count": 3,
   "metadata": {},
   "outputs": [],
   "source": [
    "import altair as alt "
   ]
  },
  {
   "cell_type": "markdown",
   "metadata": {},
   "source": [
    "# Starting with a Question: **Who are you (the students of DS100)?**\n",
    "\n",
    "This is a pretty vague question but let's start with the goal of learning something about the students in the class.\n"
   ]
  },
  {
   "cell_type": "markdown",
   "metadata": {},
   "source": [
    "## Data Acquisition and Cleaning \n",
    "\n",
    "**In DS100 we will study various methods to collect data.**\n",
    "\n",
    "To answer this question, I downloaded the course roster and extracted everyones first name and major.  I'll also asign everybody a random number (who will have the largest?!)"
   ]
  },
  {
   "cell_type": "code",
   "execution_count": 5,
   "metadata": {},
   "outputs": [
    {
     "data": {
      "text/html": [
       "<div>\n",
       "<style scoped>\n",
       "    .dataframe tbody tr th:only-of-type {\n",
       "        vertical-align: middle;\n",
       "    }\n",
       "\n",
       "    .dataframe tbody tr th {\n",
       "        vertical-align: top;\n",
       "    }\n",
       "\n",
       "    .dataframe thead th {\n",
       "        text-align: right;\n",
       "    }\n",
       "</style>\n",
       "<table border=\"1\" class=\"dataframe\">\n",
       "  <thead>\n",
       "    <tr style=\"text-align: right;\">\n",
       "      <th></th>\n",
       "      <th>Major</th>\n",
       "      <th>Random Number</th>\n",
       "    </tr>\n",
       "    <tr>\n",
       "      <th>Name</th>\n",
       "      <th></th>\n",
       "      <th></th>\n",
       "    </tr>\n",
       "  </thead>\n",
       "  <tbody>\n",
       "    <tr>\n",
       "      <th>STEPHANIE</th>\n",
       "      <td>STSDS</td>\n",
       "      <td>1.143859</td>\n",
       "    </tr>\n",
       "    <tr>\n",
       "      <th>FRANCIE</th>\n",
       "      <td>CMPSC</td>\n",
       "      <td>-1.246754</td>\n",
       "    </tr>\n",
       "    <tr>\n",
       "      <th>REGINA</th>\n",
       "      <td>CMPSC</td>\n",
       "      <td>-1.353835</td>\n",
       "    </tr>\n",
       "    <tr>\n",
       "      <th>YU</th>\n",
       "      <td>CMPSC</td>\n",
       "      <td>-0.024188</td>\n",
       "    </tr>\n",
       "    <tr>\n",
       "      <th>KEVIN</th>\n",
       "      <td>STSDS</td>\n",
       "      <td>1.070840</td>\n",
       "    </tr>\n",
       "  </tbody>\n",
       "</table>\n",
       "</div>"
      ],
      "text/plain": [
       "           Major  Random Number\n",
       "Name                           \n",
       "STEPHANIE  STSDS       1.143859\n",
       "FRANCIE    CMPSC      -1.246754\n",
       "REGINA     CMPSC      -1.353835\n",
       "YU         CMPSC      -0.024188\n",
       "KEVIN      STSDS       1.070840"
      ]
     },
     "execution_count": 5,
     "metadata": {},
     "output_type": "execute_result"
    }
   ],
   "source": [
    "students = pd.read_csv(\"roster.csv\", index_col=0)\n",
    "\n",
    "## Every student gets a random normal \n",
    "students['Random Number'] = np.random.randn(students.shape[0])\n",
    "\n",
    "students.tail()"
   ]
  },
  {
   "cell_type": "code",
   "execution_count": 6,
   "metadata": {},
   "outputs": [
    {
     "data": {
      "text/plain": [
       "Index(['NICK', 'PRIYANKA', 'MEGAN', 'ANITA', 'ALEC', 'DAVID', 'TINA', 'AARON',\n",
       "       'SOPHIE', 'ROBERTO', 'ROBIN', 'CALVIN', 'HAN', 'STEPHANIE', 'JASMINE',\n",
       "       'DANA', 'KARSYN', 'YAQI', 'CHENKAI', 'JIAQI', 'MEIYU', 'ANNE',\n",
       "       'ADHITYA', 'ZIQING', 'MELINDA', 'BRANDON', 'MISHA', 'ARI', 'LIA',\n",
       "       'MITCHELL', 'CATHERINE', 'LERON', 'SARAH', 'TAYLOR', 'RYDER', 'SHUYUN',\n",
       "       'MENG', 'JIANGHUA', 'JUSTIN', 'PUCHUAN', 'QUANSEN', 'JONATHAN',\n",
       "       'PHILIP', 'JASON', 'LINA', 'EDDIE', 'JESSICA', 'WENXUAN', '#REF',\n",
       "       'THIHA', 'TRUNG', 'JULIA', 'NATHAN', 'XINQI', 'YUEHAN', 'JINGWEN',\n",
       "       'REBECCA', 'CAMERON', 'MAX', 'ERAN', 'NATHAN', 'JOSH', 'STEPHANIE',\n",
       "       'FRANCIE', 'REGINA', 'YU', 'KEVIN'],\n",
       "      dtype='object', name='Name')"
      ]
     },
     "execution_count": 6,
     "metadata": {},
     "output_type": "execute_result"
    }
   ],
   "source": [
    "students.index"
   ]
  },
  {
   "cell_type": "code",
   "execution_count": 7,
   "metadata": {},
   "outputs": [
    {
     "data": {
      "text/plain": [
       "Index(['Major', 'Random Number'], dtype='object')"
      ]
     },
     "execution_count": 7,
     "metadata": {},
     "output_type": "execute_result"
    }
   ],
   "source": [
    "students.columns"
   ]
  },
  {
   "cell_type": "markdown",
   "metadata": {},
   "source": [
    "## How do we select individual features (columns)?\n",
    "\n",
    "There are a few ways."
   ]
  },
  {
   "cell_type": "code",
   "execution_count": 10,
   "metadata": {},
   "outputs": [
    {
     "data": {
      "text/plain": [
       "Name\n",
       "NICK        STSDS\n",
       "PRIYANKA    CMPSC\n",
       "MEGAN       ACTSC\n",
       "ANITA       ENVST\n",
       "ALEC        STSDS\n",
       "Name: Major, dtype: object"
      ]
     },
     "execution_count": 10,
     "metadata": {},
     "output_type": "execute_result"
    }
   ],
   "source": [
    "students['Major'].head()"
   ]
  },
  {
   "cell_type": "markdown",
   "metadata": {},
   "source": [
    "---\n",
    "\n",
    "## Exploratory Data Analysis\n",
    "\n",
    "**In DS100 we will study exploratory data analysis and practice analyzing new datasets.**\n"
   ]
  },
  {
   "cell_type": "markdown",
   "metadata": {
    "solution2": "shown",
    "solution2_first": true
   },
   "source": [
    "### How many records do we have:\n",
    "A good starting point is understanding the size of the data. "
   ]
  },
  {
   "cell_type": "markdown",
   "metadata": {
    "solution2": "shown"
   },
   "source": [
    "#### Solution"
   ]
  },
  {
   "cell_type": "code",
   "execution_count": 11,
   "metadata": {
    "solution2": "shown"
   },
   "outputs": [
    {
     "name": "stdout",
     "output_type": "stream",
     "text": [
      "There are 67 students on the roster.\n"
     ]
    }
   ],
   "source": [
    "print(\"There are\", len(students), \"students on the roster.\")"
   ]
  },
  {
   "cell_type": "markdown",
   "metadata": {},
   "source": [
    "### Is my data representative of the population I want to study?"
   ]
  },
  {
   "cell_type": "markdown",
   "metadata": {
    "solution2": "hidden"
   },
   "source": [
    "**Answer:**\n",
    "\n",
    "This is (or at least was) a complete **census** of the class containing all the official students."
   ]
  },
  {
   "cell_type": "markdown",
   "metadata": {
    "solution2": "shown",
    "solution2_first": true
   },
   "source": [
    "\n",
    "### Understanding the structure of data\n",
    "\n",
    "It is important that we understand the meaning of each field and how the data is organized."
   ]
  },
  {
   "cell_type": "code",
   "execution_count": 12,
   "metadata": {},
   "outputs": [
    {
     "data": {
      "text/html": [
       "<div>\n",
       "<style scoped>\n",
       "    .dataframe tbody tr th:only-of-type {\n",
       "        vertical-align: middle;\n",
       "    }\n",
       "\n",
       "    .dataframe tbody tr th {\n",
       "        vertical-align: top;\n",
       "    }\n",
       "\n",
       "    .dataframe thead th {\n",
       "        text-align: right;\n",
       "    }\n",
       "</style>\n",
       "<table border=\"1\" class=\"dataframe\">\n",
       "  <thead>\n",
       "    <tr style=\"text-align: right;\">\n",
       "      <th></th>\n",
       "      <th>Major</th>\n",
       "      <th>Random Number</th>\n",
       "    </tr>\n",
       "    <tr>\n",
       "      <th>Name</th>\n",
       "      <th></th>\n",
       "      <th></th>\n",
       "    </tr>\n",
       "  </thead>\n",
       "  <tbody>\n",
       "    <tr>\n",
       "      <th>#REF</th>\n",
       "      <td>#REF</td>\n",
       "      <td>0.674780</td>\n",
       "    </tr>\n",
       "    <tr>\n",
       "      <th>AARON</th>\n",
       "      <td>STSDS</td>\n",
       "      <td>-0.727915</td>\n",
       "    </tr>\n",
       "    <tr>\n",
       "      <th>ADHITYA</th>\n",
       "      <td>STSDS</td>\n",
       "      <td>0.811819</td>\n",
       "    </tr>\n",
       "    <tr>\n",
       "      <th>ALEC</th>\n",
       "      <td>STSDS</td>\n",
       "      <td>1.155445</td>\n",
       "    </tr>\n",
       "    <tr>\n",
       "      <th>ANITA</th>\n",
       "      <td>ENVST</td>\n",
       "      <td>1.405671</td>\n",
       "    </tr>\n",
       "  </tbody>\n",
       "</table>\n",
       "</div>"
      ],
      "text/plain": [
       "         Major  Random Number\n",
       "Name                         \n",
       "#REF      #REF       0.674780\n",
       "AARON    STSDS      -0.727915\n",
       "ADHITYA  STSDS       0.811819\n",
       "ALEC     STSDS       1.155445\n",
       "ANITA    ENVST       1.405671"
      ]
     },
     "execution_count": 12,
     "metadata": {},
     "output_type": "execute_result"
    }
   ],
   "source": [
    "students.sort_index(inplace=True)\n",
    "students.head()\n"
   ]
  },
  {
   "cell_type": "markdown",
   "metadata": {},
   "source": [
    "What is the meaning of the **Major** field?"
   ]
  },
  {
   "cell_type": "markdown",
   "metadata": {
    "solution2": "shown"
   },
   "source": [
    "**Solution** \n",
    "Understanding the meaning of field can often be achieved by looking at the types of data it contains (in particular the counts of its unique values)."
   ]
  },
  {
   "cell_type": "code",
   "execution_count": 13,
   "metadata": {},
   "outputs": [
    {
     "data": {
      "text/plain": [
       "pandas.core.series.Series"
      ]
     },
     "execution_count": 13,
     "metadata": {},
     "output_type": "execute_result"
    }
   ],
   "source": [
    "students['Major'].__class__"
   ]
  },
  {
   "cell_type": "code",
   "execution_count": 14,
   "metadata": {
    "solution2": "shown"
   },
   "outputs": [
    {
     "data": {
      "text/html": [
       "<div>\n",
       "<style scoped>\n",
       "    .dataframe tbody tr th:only-of-type {\n",
       "        vertical-align: middle;\n",
       "    }\n",
       "\n",
       "    .dataframe tbody tr th {\n",
       "        vertical-align: top;\n",
       "    }\n",
       "\n",
       "    .dataframe thead th {\n",
       "        text-align: right;\n",
       "    }\n",
       "</style>\n",
       "<table border=\"1\" class=\"dataframe\">\n",
       "  <thead>\n",
       "    <tr style=\"text-align: right;\">\n",
       "      <th></th>\n",
       "      <th>Major</th>\n",
       "    </tr>\n",
       "  </thead>\n",
       "  <tbody>\n",
       "    <tr>\n",
       "      <th>STSDS</th>\n",
       "      <td>30</td>\n",
       "    </tr>\n",
       "    <tr>\n",
       "      <th>CMPSC</th>\n",
       "      <td>15</td>\n",
       "    </tr>\n",
       "    <tr>\n",
       "      <th>ACTSC</th>\n",
       "      <td>3</td>\n",
       "    </tr>\n",
       "    <tr>\n",
       "      <th>STSCI</th>\n",
       "      <td>3</td>\n",
       "    </tr>\n",
       "    <tr>\n",
       "      <th>MTHSC</th>\n",
       "      <td>3</td>\n",
       "    </tr>\n",
       "    <tr>\n",
       "      <th>PRMTH</th>\n",
       "      <td>2</td>\n",
       "    </tr>\n",
       "    <tr>\n",
       "      <th>CMPEN</th>\n",
       "      <td>2</td>\n",
       "    </tr>\n",
       "    <tr>\n",
       "      <th>ECON</th>\n",
       "      <td>1</td>\n",
       "    </tr>\n",
       "    <tr>\n",
       "      <th>CHEME</th>\n",
       "      <td>1</td>\n",
       "    </tr>\n",
       "    <tr>\n",
       "      <th>MATCS</th>\n",
       "      <td>1</td>\n",
       "    </tr>\n",
       "    <tr>\n",
       "      <th>PRBIO</th>\n",
       "      <td>1</td>\n",
       "    </tr>\n",
       "    <tr>\n",
       "      <th>FINMS</th>\n",
       "      <td>1</td>\n",
       "    </tr>\n",
       "    <tr>\n",
       "      <th>PRPBS</th>\n",
       "      <td>1</td>\n",
       "    </tr>\n",
       "    <tr>\n",
       "      <th>ENVST</th>\n",
       "      <td>1</td>\n",
       "    </tr>\n",
       "    <tr>\n",
       "      <th>COMM</th>\n",
       "      <td>1</td>\n",
       "    </tr>\n",
       "    <tr>\n",
       "      <th>#REF</th>\n",
       "      <td>1</td>\n",
       "    </tr>\n",
       "  </tbody>\n",
       "</table>\n",
       "</div>"
      ],
      "text/plain": [
       "       Major\n",
       "STSDS     30\n",
       "CMPSC     15\n",
       "ACTSC      3\n",
       "STSCI      3\n",
       "MTHSC      3\n",
       "PRMTH      2\n",
       "CMPEN      2\n",
       "ECON       1\n",
       "CHEME      1\n",
       "MATCS      1\n",
       "PRBIO      1\n",
       "FINMS      1\n",
       "PRPBS      1\n",
       "ENVST      1\n",
       "COMM       1\n",
       "#REF       1"
      ]
     },
     "execution_count": 14,
     "metadata": {},
     "output_type": "execute_result"
    }
   ],
   "source": [
    "students['Major'].value_counts().to_frame()"
   ]
  },
  {
   "cell_type": "markdown",
   "metadata": {},
   "source": [
    "It appears that one student has an erroneous major given as \"#REF\". What else can we learn about this student? Let's see their name.  We'll find this student using the `loc` method from pandas."
   ]
  },
  {
   "cell_type": "code",
   "execution_count": 15,
   "metadata": {},
   "outputs": [
    {
     "data": {
      "text/plain": [
       "Name\n",
       "#REF          True\n",
       "AARON        False\n",
       "ADHITYA      False\n",
       "ALEC         False\n",
       "ANITA        False\n",
       "ANNE         False\n",
       "ARI          False\n",
       "BRANDON      False\n",
       "CALVIN       False\n",
       "CAMERON      False\n",
       "CATHERINE    False\n",
       "CHENKAI      False\n",
       "DANA         False\n",
       "DAVID        False\n",
       "EDDIE        False\n",
       "ERAN         False\n",
       "FRANCIE      False\n",
       "HAN          False\n",
       "JASMINE      False\n",
       "JASON        False\n",
       "JESSICA      False\n",
       "JIANGHUA     False\n",
       "JIAQI        False\n",
       "JINGWEN      False\n",
       "JONATHAN     False\n",
       "JOSH         False\n",
       "JULIA        False\n",
       "JUSTIN       False\n",
       "KARSYN       False\n",
       "KEVIN        False\n",
       "             ...  \n",
       "MENG         False\n",
       "MISHA        False\n",
       "MITCHELL     False\n",
       "NATHAN       False\n",
       "NATHAN       False\n",
       "NICK         False\n",
       "PHILIP       False\n",
       "PRIYANKA     False\n",
       "PUCHUAN      False\n",
       "QUANSEN      False\n",
       "REBECCA      False\n",
       "REGINA       False\n",
       "ROBERTO      False\n",
       "ROBIN        False\n",
       "RYDER        False\n",
       "SARAH        False\n",
       "SHUYUN       False\n",
       "SOPHIE       False\n",
       "STEPHANIE    False\n",
       "STEPHANIE    False\n",
       "TAYLOR       False\n",
       "THIHA        False\n",
       "TINA         False\n",
       "TRUNG        False\n",
       "WENXUAN      False\n",
       "XINQI        False\n",
       "YAQI         False\n",
       "YU           False\n",
       "YUEHAN       False\n",
       "ZIQING       False\n",
       "Name: Major, Length: 67, dtype: bool"
      ]
     },
     "execution_count": 15,
     "metadata": {},
     "output_type": "execute_result"
    }
   ],
   "source": [
    "students['Major'] == '#REF'"
   ]
  },
  {
   "cell_type": "code",
   "execution_count": 16,
   "metadata": {},
   "outputs": [
    {
     "data": {
      "text/html": [
       "<div>\n",
       "<style scoped>\n",
       "    .dataframe tbody tr th:only-of-type {\n",
       "        vertical-align: middle;\n",
       "    }\n",
       "\n",
       "    .dataframe tbody tr th {\n",
       "        vertical-align: top;\n",
       "    }\n",
       "\n",
       "    .dataframe thead th {\n",
       "        text-align: right;\n",
       "    }\n",
       "</style>\n",
       "<table border=\"1\" class=\"dataframe\">\n",
       "  <thead>\n",
       "    <tr style=\"text-align: right;\">\n",
       "      <th></th>\n",
       "      <th>Major</th>\n",
       "      <th>Random Number</th>\n",
       "    </tr>\n",
       "    <tr>\n",
       "      <th>Name</th>\n",
       "      <th></th>\n",
       "      <th></th>\n",
       "    </tr>\n",
       "  </thead>\n",
       "  <tbody>\n",
       "    <tr>\n",
       "      <th>#REF</th>\n",
       "      <td>#REF</td>\n",
       "      <td>0.67478</td>\n",
       "    </tr>\n",
       "  </tbody>\n",
       "</table>\n",
       "</div>"
      ],
      "text/plain": [
       "     Major  Random Number\n",
       "Name                     \n",
       "#REF  #REF        0.67478"
      ]
     },
     "execution_count": 16,
     "metadata": {},
     "output_type": "execute_result"
    }
   ],
   "source": [
    "students.loc[students['Major'] == \"#REF\"]"
   ]
  },
  {
   "cell_type": "markdown",
   "metadata": {},
   "source": [
    "Though this single bad record won't have much of an impact on our analysis, we can clean our data by removing this record."
   ]
  },
  {
   "cell_type": "code",
   "execution_count": 17,
   "metadata": {},
   "outputs": [],
   "source": [
    "students = students.loc[students['Major'] != \"#REF\"]"
   ]
  },
  {
   "cell_type": "markdown",
   "metadata": {},
   "source": [
    "Let's double check that our record removal only removed the single bad record."
   ]
  },
  {
   "cell_type": "code",
   "execution_count": 18,
   "metadata": {},
   "outputs": [
    {
     "data": {
      "text/html": [
       "<div>\n",
       "<style scoped>\n",
       "    .dataframe tbody tr th:only-of-type {\n",
       "        vertical-align: middle;\n",
       "    }\n",
       "\n",
       "    .dataframe tbody tr th {\n",
       "        vertical-align: top;\n",
       "    }\n",
       "\n",
       "    .dataframe thead th {\n",
       "        text-align: right;\n",
       "    }\n",
       "</style>\n",
       "<table border=\"1\" class=\"dataframe\">\n",
       "  <thead>\n",
       "    <tr style=\"text-align: right;\">\n",
       "      <th></th>\n",
       "      <th>Major</th>\n",
       "    </tr>\n",
       "  </thead>\n",
       "  <tbody>\n",
       "    <tr>\n",
       "      <th>STSDS</th>\n",
       "      <td>30</td>\n",
       "    </tr>\n",
       "    <tr>\n",
       "      <th>CMPSC</th>\n",
       "      <td>15</td>\n",
       "    </tr>\n",
       "    <tr>\n",
       "      <th>ACTSC</th>\n",
       "      <td>3</td>\n",
       "    </tr>\n",
       "    <tr>\n",
       "      <th>STSCI</th>\n",
       "      <td>3</td>\n",
       "    </tr>\n",
       "    <tr>\n",
       "      <th>MTHSC</th>\n",
       "      <td>3</td>\n",
       "    </tr>\n",
       "    <tr>\n",
       "      <th>PRMTH</th>\n",
       "      <td>2</td>\n",
       "    </tr>\n",
       "    <tr>\n",
       "      <th>CMPEN</th>\n",
       "      <td>2</td>\n",
       "    </tr>\n",
       "    <tr>\n",
       "      <th>ECON</th>\n",
       "      <td>1</td>\n",
       "    </tr>\n",
       "    <tr>\n",
       "      <th>CHEME</th>\n",
       "      <td>1</td>\n",
       "    </tr>\n",
       "    <tr>\n",
       "      <th>MATCS</th>\n",
       "      <td>1</td>\n",
       "    </tr>\n",
       "    <tr>\n",
       "      <th>PRBIO</th>\n",
       "      <td>1</td>\n",
       "    </tr>\n",
       "    <tr>\n",
       "      <th>FINMS</th>\n",
       "      <td>1</td>\n",
       "    </tr>\n",
       "    <tr>\n",
       "      <th>PRPBS</th>\n",
       "      <td>1</td>\n",
       "    </tr>\n",
       "    <tr>\n",
       "      <th>ENVST</th>\n",
       "      <td>1</td>\n",
       "    </tr>\n",
       "    <tr>\n",
       "      <th>COMM</th>\n",
       "      <td>1</td>\n",
       "    </tr>\n",
       "  </tbody>\n",
       "</table>\n",
       "</div>"
      ],
      "text/plain": [
       "       Major\n",
       "STSDS     30\n",
       "CMPSC     15\n",
       "ACTSC      3\n",
       "STSCI      3\n",
       "MTHSC      3\n",
       "PRMTH      2\n",
       "CMPEN      2\n",
       "ECON       1\n",
       "CHEME      1\n",
       "MATCS      1\n",
       "PRBIO      1\n",
       "FINMS      1\n",
       "PRPBS      1\n",
       "ENVST      1\n",
       "COMM       1"
      ]
     },
     "execution_count": 18,
     "metadata": {},
     "output_type": "execute_result"
    }
   ],
   "source": [
    "students['Major'].value_counts().to_frame()"
   ]
  },
  {
   "cell_type": "markdown",
   "metadata": {},
   "source": [
    "\n",
    "\n",
    "\n",
    "\n"
   ]
  },
  {
   "cell_type": "markdown",
   "metadata": {},
   "source": [
    "## Selecting Rows\n",
    "We can select specific rows (observations of a data frame) using either `loc` or `iloc`.  What's the difference?"
   ]
  },
  {
   "cell_type": "code",
   "execution_count": 29,
   "metadata": {},
   "outputs": [
    {
     "data": {
      "text/plain": [
       "1.4056712725844451"
      ]
     },
     "execution_count": 29,
     "metadata": {},
     "output_type": "execute_result"
    }
   ],
   "source": [
    "## Same result\n",
    "\n",
    "#students['Random Number']\n",
    "\n",
    "# display(students.iloc[[0, 5, 42]])\n",
    "# print() ## Empty line\n",
    "# display(students.loc[[\"AARON\", \"ARI\", \"PHILIP\"]])\n",
    "\n",
    "\n",
    "students\n",
    "students.iloc[3, 1]"
   ]
  },
  {
   "cell_type": "markdown",
   "metadata": {},
   "source": [
    "`iloc` takes row numbers only (where `0` is the first row).  `loc` takes index names.  However, `loc` can also select rows using boolean arrays."
   ]
  },
  {
   "cell_type": "code",
   "execution_count": 31,
   "metadata": {},
   "outputs": [
    {
     "data": {
      "text/html": [
       "<div>\n",
       "<style scoped>\n",
       "    .dataframe tbody tr th:only-of-type {\n",
       "        vertical-align: middle;\n",
       "    }\n",
       "\n",
       "    .dataframe tbody tr th {\n",
       "        vertical-align: top;\n",
       "    }\n",
       "\n",
       "    .dataframe thead th {\n",
       "        text-align: right;\n",
       "    }\n",
       "</style>\n",
       "<table border=\"1\" class=\"dataframe\">\n",
       "  <thead>\n",
       "    <tr style=\"text-align: right;\">\n",
       "      <th></th>\n",
       "      <th>Major</th>\n",
       "      <th>Random Number</th>\n",
       "    </tr>\n",
       "    <tr>\n",
       "      <th>Name</th>\n",
       "      <th></th>\n",
       "      <th></th>\n",
       "    </tr>\n",
       "  </thead>\n",
       "  <tbody>\n",
       "    <tr>\n",
       "      <th>JESSICA</th>\n",
       "      <td>ACTSC</td>\n",
       "      <td>-0.290429</td>\n",
       "    </tr>\n",
       "    <tr>\n",
       "      <th>JUSTIN</th>\n",
       "      <td>ACTSC</td>\n",
       "      <td>0.214722</td>\n",
       "    </tr>\n",
       "    <tr>\n",
       "      <th>MEGAN</th>\n",
       "      <td>ACTSC</td>\n",
       "      <td>-1.037759</td>\n",
       "    </tr>\n",
       "  </tbody>\n",
       "</table>\n",
       "</div>"
      ],
      "text/plain": [
       "         Major  Random Number\n",
       "Name                         \n",
       "JESSICA  ACTSC      -0.290429\n",
       "JUSTIN   ACTSC       0.214722\n",
       "MEGAN    ACTSC      -1.037759"
      ]
     },
     "execution_count": 31,
     "metadata": {},
     "output_type": "execute_result"
    }
   ],
   "source": [
    "## students['Major'] == \"ACTSC\"\n",
    "\n",
    "students.loc[students['Major'] == \"ACTSC\"]"
   ]
  },
  {
   "cell_type": "markdown",
   "metadata": {},
   "source": [
    "Row indices do not have to be unique"
   ]
  },
  {
   "cell_type": "code",
   "execution_count": 32,
   "metadata": {},
   "outputs": [
    {
     "data": {
      "text/html": [
       "<div>\n",
       "<style scoped>\n",
       "    .dataframe tbody tr th:only-of-type {\n",
       "        vertical-align: middle;\n",
       "    }\n",
       "\n",
       "    .dataframe tbody tr th {\n",
       "        vertical-align: top;\n",
       "    }\n",
       "\n",
       "    .dataframe thead th {\n",
       "        text-align: right;\n",
       "    }\n",
       "</style>\n",
       "<table border=\"1\" class=\"dataframe\">\n",
       "  <thead>\n",
       "    <tr style=\"text-align: right;\">\n",
       "      <th></th>\n",
       "      <th>Major</th>\n",
       "      <th>Random Number</th>\n",
       "    </tr>\n",
       "    <tr>\n",
       "      <th>Name</th>\n",
       "      <th></th>\n",
       "      <th></th>\n",
       "    </tr>\n",
       "  </thead>\n",
       "  <tbody>\n",
       "    <tr>\n",
       "      <th>STEPHANIE</th>\n",
       "      <td>STSDS</td>\n",
       "      <td>1.143859</td>\n",
       "    </tr>\n",
       "    <tr>\n",
       "      <th>STEPHANIE</th>\n",
       "      <td>STSDS</td>\n",
       "      <td>-0.384954</td>\n",
       "    </tr>\n",
       "  </tbody>\n",
       "</table>\n",
       "</div>"
      ],
      "text/plain": [
       "           Major  Random Number\n",
       "Name                           \n",
       "STEPHANIE  STSDS       1.143859\n",
       "STEPHANIE  STSDS      -0.384954"
      ]
     },
     "execution_count": 32,
     "metadata": {},
     "output_type": "execute_result"
    }
   ],
   "source": [
    "students.loc[\"STEPHANIE\"]"
   ]
  },
  {
   "cell_type": "code",
   "execution_count": 33,
   "metadata": {},
   "outputs": [
    {
     "data": {
      "text/html": [
       "<div>\n",
       "<style scoped>\n",
       "    .dataframe tbody tr th:only-of-type {\n",
       "        vertical-align: middle;\n",
       "    }\n",
       "\n",
       "    .dataframe tbody tr th {\n",
       "        vertical-align: top;\n",
       "    }\n",
       "\n",
       "    .dataframe thead th {\n",
       "        text-align: right;\n",
       "    }\n",
       "</style>\n",
       "<table border=\"1\" class=\"dataframe\">\n",
       "  <thead>\n",
       "    <tr style=\"text-align: right;\">\n",
       "      <th></th>\n",
       "      <th>Major</th>\n",
       "      <th>Random Number</th>\n",
       "    </tr>\n",
       "    <tr>\n",
       "      <th>Name</th>\n",
       "      <th></th>\n",
       "      <th></th>\n",
       "    </tr>\n",
       "  </thead>\n",
       "  <tbody>\n",
       "    <tr>\n",
       "      <th>AARON</th>\n",
       "      <td>STSDS</td>\n",
       "      <td>-0.727915</td>\n",
       "    </tr>\n",
       "    <tr>\n",
       "      <th>ADHITYA</th>\n",
       "      <td>STSDS</td>\n",
       "      <td>0.811819</td>\n",
       "    </tr>\n",
       "    <tr>\n",
       "      <th>ALEC</th>\n",
       "      <td>STSDS</td>\n",
       "      <td>1.155445</td>\n",
       "    </tr>\n",
       "  </tbody>\n",
       "</table>\n",
       "</div>"
      ],
      "text/plain": [
       "         Major  Random Number\n",
       "Name                         \n",
       "AARON    STSDS      -0.727915\n",
       "ADHITYA  STSDS       0.811819\n",
       "ALEC     STSDS       1.155445"
      ]
     },
     "execution_count": 33,
     "metadata": {},
     "output_type": "execute_result"
    }
   ],
   "source": [
    "students.iloc[[0, 1, 2]]"
   ]
  },
  {
   "cell_type": "code",
   "execution_count": 39,
   "metadata": {},
   "outputs": [
    {
     "ename": "SyntaxError",
     "evalue": "invalid syntax (<ipython-input-39-87441a7d76f7>, line 2)",
     "output_type": "error",
     "traceback": [
      "\u001b[0;36m  File \u001b[0;32m\"<ipython-input-39-87441a7d76f7>\"\u001b[0;36m, line \u001b[0;32m2\u001b[0m\n\u001b[0;31m    students.Random Number\u001b[0m\n\u001b[0m                         ^\u001b[0m\n\u001b[0;31mSyntaxError\u001b[0m\u001b[0;31m:\u001b[0m invalid syntax\n"
     ]
    }
   ],
   "source": [
    "students['Random Number']\n",
    "# students.Random Number"
   ]
  },
  {
   "cell_type": "markdown",
   "metadata": {},
   "source": [
    "### Summarizing the Data\n",
    "\n",
    "We will often want to numerically or visually summarize the data. The describe method provides a brief high level description of our data frame. "
   ]
  },
  {
   "cell_type": "code",
   "execution_count": 40,
   "metadata": {
    "scrolled": true
   },
   "outputs": [
    {
     "data": {
      "text/html": [
       "<div>\n",
       "<style scoped>\n",
       "    .dataframe tbody tr th:only-of-type {\n",
       "        vertical-align: middle;\n",
       "    }\n",
       "\n",
       "    .dataframe tbody tr th {\n",
       "        vertical-align: top;\n",
       "    }\n",
       "\n",
       "    .dataframe thead th {\n",
       "        text-align: right;\n",
       "    }\n",
       "</style>\n",
       "<table border=\"1\" class=\"dataframe\">\n",
       "  <thead>\n",
       "    <tr style=\"text-align: right;\">\n",
       "      <th></th>\n",
       "      <th>Random Number</th>\n",
       "    </tr>\n",
       "  </thead>\n",
       "  <tbody>\n",
       "    <tr>\n",
       "      <th>count</th>\n",
       "      <td>66.000000</td>\n",
       "    </tr>\n",
       "    <tr>\n",
       "      <th>mean</th>\n",
       "      <td>-0.090669</td>\n",
       "    </tr>\n",
       "    <tr>\n",
       "      <th>std</th>\n",
       "      <td>1.111918</td>\n",
       "    </tr>\n",
       "    <tr>\n",
       "      <th>min</th>\n",
       "      <td>-2.806421</td>\n",
       "    </tr>\n",
       "    <tr>\n",
       "      <th>25%</th>\n",
       "      <td>-0.866446</td>\n",
       "    </tr>\n",
       "    <tr>\n",
       "      <th>50%</th>\n",
       "      <td>-0.157308</td>\n",
       "    </tr>\n",
       "    <tr>\n",
       "      <th>75%</th>\n",
       "      <td>1.009611</td>\n",
       "    </tr>\n",
       "    <tr>\n",
       "      <th>max</th>\n",
       "      <td>1.769480</td>\n",
       "    </tr>\n",
       "  </tbody>\n",
       "</table>\n",
       "</div>"
      ],
      "text/plain": [
       "       Random Number\n",
       "count      66.000000\n",
       "mean       -0.090669\n",
       "std         1.111918\n",
       "min        -2.806421\n",
       "25%        -0.866446\n",
       "50%        -0.157308\n",
       "75%         1.009611\n",
       "max         1.769480"
      ]
     },
     "execution_count": 40,
     "metadata": {},
     "output_type": "execute_result"
    }
   ],
   "source": [
    "students.describe()"
   ]
  },
  {
   "cell_type": "code",
   "execution_count": 42,
   "metadata": {},
   "outputs": [
    {
     "data": {
      "text/html": [
       "<div>\n",
       "<style scoped>\n",
       "    .dataframe tbody tr th:only-of-type {\n",
       "        vertical-align: middle;\n",
       "    }\n",
       "\n",
       "    .dataframe tbody tr th {\n",
       "        vertical-align: top;\n",
       "    }\n",
       "\n",
       "    .dataframe thead th {\n",
       "        text-align: right;\n",
       "    }\n",
       "</style>\n",
       "<table border=\"1\" class=\"dataframe\">\n",
       "  <thead>\n",
       "    <tr style=\"text-align: right;\">\n",
       "      <th></th>\n",
       "      <th>Major</th>\n",
       "      <th>Random Number</th>\n",
       "    </tr>\n",
       "    <tr>\n",
       "      <th>Name</th>\n",
       "      <th></th>\n",
       "      <th></th>\n",
       "    </tr>\n",
       "  </thead>\n",
       "  <tbody>\n",
       "    <tr>\n",
       "      <th>SARAH</th>\n",
       "      <td>STSDS</td>\n",
       "      <td>-2.806421</td>\n",
       "    </tr>\n",
       "    <tr>\n",
       "      <th>ERAN</th>\n",
       "      <td>CMPSC</td>\n",
       "      <td>-2.068628</td>\n",
       "    </tr>\n",
       "    <tr>\n",
       "      <th>LERON</th>\n",
       "      <td>CMPSC</td>\n",
       "      <td>-2.005270</td>\n",
       "    </tr>\n",
       "    <tr>\n",
       "      <th>YAQI</th>\n",
       "      <td>STSDS</td>\n",
       "      <td>-1.980737</td>\n",
       "    </tr>\n",
       "    <tr>\n",
       "      <th>ANNE</th>\n",
       "      <td>MTHSC</td>\n",
       "      <td>-1.920084</td>\n",
       "    </tr>\n",
       "    <tr>\n",
       "      <th>TRUNG</th>\n",
       "      <td>CMPSC</td>\n",
       "      <td>-1.736140</td>\n",
       "    </tr>\n",
       "    <tr>\n",
       "      <th>MAX</th>\n",
       "      <td>CMPSC</td>\n",
       "      <td>-1.635002</td>\n",
       "    </tr>\n",
       "    <tr>\n",
       "      <th>REGINA</th>\n",
       "      <td>CMPSC</td>\n",
       "      <td>-1.353835</td>\n",
       "    </tr>\n",
       "    <tr>\n",
       "      <th>THIHA</th>\n",
       "      <td>STSDS</td>\n",
       "      <td>-1.310898</td>\n",
       "    </tr>\n",
       "    <tr>\n",
       "      <th>JONATHAN</th>\n",
       "      <td>PRMTH</td>\n",
       "      <td>-1.261245</td>\n",
       "    </tr>\n",
       "    <tr>\n",
       "      <th>FRANCIE</th>\n",
       "      <td>CMPSC</td>\n",
       "      <td>-1.246754</td>\n",
       "    </tr>\n",
       "    <tr>\n",
       "      <th>JIANGHUA</th>\n",
       "      <td>CMPSC</td>\n",
       "      <td>-1.104014</td>\n",
       "    </tr>\n",
       "    <tr>\n",
       "      <th>JIAQI</th>\n",
       "      <td>STSDS</td>\n",
       "      <td>-1.074887</td>\n",
       "    </tr>\n",
       "    <tr>\n",
       "      <th>TINA</th>\n",
       "      <td>STSDS</td>\n",
       "      <td>-1.051674</td>\n",
       "    </tr>\n",
       "    <tr>\n",
       "      <th>MEGAN</th>\n",
       "      <td>ACTSC</td>\n",
       "      <td>-1.037759</td>\n",
       "    </tr>\n",
       "    <tr>\n",
       "      <th>YUEHAN</th>\n",
       "      <td>STSDS</td>\n",
       "      <td>-0.933640</td>\n",
       "    </tr>\n",
       "    <tr>\n",
       "      <th>ROBERTO</th>\n",
       "      <td>CMPSC</td>\n",
       "      <td>-0.874748</td>\n",
       "    </tr>\n",
       "    <tr>\n",
       "      <th>MENG</th>\n",
       "      <td>STSDS</td>\n",
       "      <td>-0.841541</td>\n",
       "    </tr>\n",
       "    <tr>\n",
       "      <th>NATHAN</th>\n",
       "      <td>PRMTH</td>\n",
       "      <td>-0.814076</td>\n",
       "    </tr>\n",
       "    <tr>\n",
       "      <th>ZIQING</th>\n",
       "      <td>STSDS</td>\n",
       "      <td>-0.787066</td>\n",
       "    </tr>\n",
       "    <tr>\n",
       "      <th>AARON</th>\n",
       "      <td>STSDS</td>\n",
       "      <td>-0.727915</td>\n",
       "    </tr>\n",
       "    <tr>\n",
       "      <th>PUCHUAN</th>\n",
       "      <td>ECON</td>\n",
       "      <td>-0.656597</td>\n",
       "    </tr>\n",
       "    <tr>\n",
       "      <th>CHENKAI</th>\n",
       "      <td>STSDS</td>\n",
       "      <td>-0.638761</td>\n",
       "    </tr>\n",
       "    <tr>\n",
       "      <th>JULIA</th>\n",
       "      <td>STSDS</td>\n",
       "      <td>-0.574015</td>\n",
       "    </tr>\n",
       "    <tr>\n",
       "      <th>HAN</th>\n",
       "      <td>PRBIO</td>\n",
       "      <td>-0.529539</td>\n",
       "    </tr>\n",
       "    <tr>\n",
       "      <th>PHILIP</th>\n",
       "      <td>STSDS</td>\n",
       "      <td>-0.518260</td>\n",
       "    </tr>\n",
       "    <tr>\n",
       "      <th>MISHA</th>\n",
       "      <td>CMPEN</td>\n",
       "      <td>-0.496699</td>\n",
       "    </tr>\n",
       "    <tr>\n",
       "      <th>RYDER</th>\n",
       "      <td>STSDS</td>\n",
       "      <td>-0.491663</td>\n",
       "    </tr>\n",
       "    <tr>\n",
       "      <th>MEIYU</th>\n",
       "      <td>STSDS</td>\n",
       "      <td>-0.485933</td>\n",
       "    </tr>\n",
       "    <tr>\n",
       "      <th>SHUYUN</th>\n",
       "      <td>STSDS</td>\n",
       "      <td>-0.411202</td>\n",
       "    </tr>\n",
       "    <tr>\n",
       "      <th>...</th>\n",
       "      <td>...</td>\n",
       "      <td>...</td>\n",
       "    </tr>\n",
       "    <tr>\n",
       "      <th>PRIYANKA</th>\n",
       "      <td>CMPSC</td>\n",
       "      <td>0.195923</td>\n",
       "    </tr>\n",
       "    <tr>\n",
       "      <th>JUSTIN</th>\n",
       "      <td>ACTSC</td>\n",
       "      <td>0.214722</td>\n",
       "    </tr>\n",
       "    <tr>\n",
       "      <th>MELINDA</th>\n",
       "      <td>STSDS</td>\n",
       "      <td>0.243309</td>\n",
       "    </tr>\n",
       "    <tr>\n",
       "      <th>LINA</th>\n",
       "      <td>CMPSC</td>\n",
       "      <td>0.301267</td>\n",
       "    </tr>\n",
       "    <tr>\n",
       "      <th>XINQI</th>\n",
       "      <td>STSCI</td>\n",
       "      <td>0.362135</td>\n",
       "    </tr>\n",
       "    <tr>\n",
       "      <th>JOSH</th>\n",
       "      <td>MTHSC</td>\n",
       "      <td>0.415749</td>\n",
       "    </tr>\n",
       "    <tr>\n",
       "      <th>JINGWEN</th>\n",
       "      <td>STSCI</td>\n",
       "      <td>0.423890</td>\n",
       "    </tr>\n",
       "    <tr>\n",
       "      <th>JASON</th>\n",
       "      <td>STSDS</td>\n",
       "      <td>0.460283</td>\n",
       "    </tr>\n",
       "    <tr>\n",
       "      <th>BRANDON</th>\n",
       "      <td>CMPSC</td>\n",
       "      <td>0.530544</td>\n",
       "    </tr>\n",
       "    <tr>\n",
       "      <th>CAMERON</th>\n",
       "      <td>PRPBS</td>\n",
       "      <td>0.710107</td>\n",
       "    </tr>\n",
       "    <tr>\n",
       "      <th>EDDIE</th>\n",
       "      <td>CMPSC</td>\n",
       "      <td>0.759790</td>\n",
       "    </tr>\n",
       "    <tr>\n",
       "      <th>ADHITYA</th>\n",
       "      <td>STSDS</td>\n",
       "      <td>0.811819</td>\n",
       "    </tr>\n",
       "    <tr>\n",
       "      <th>WENXUAN</th>\n",
       "      <td>STSDS</td>\n",
       "      <td>0.859533</td>\n",
       "    </tr>\n",
       "    <tr>\n",
       "      <th>ROBIN</th>\n",
       "      <td>STSDS</td>\n",
       "      <td>1.059637</td>\n",
       "    </tr>\n",
       "    <tr>\n",
       "      <th>KEVIN</th>\n",
       "      <td>STSDS</td>\n",
       "      <td>1.070840</td>\n",
       "    </tr>\n",
       "    <tr>\n",
       "      <th>SOPHIE</th>\n",
       "      <td>CMPSC</td>\n",
       "      <td>1.080084</td>\n",
       "    </tr>\n",
       "    <tr>\n",
       "      <th>LIA</th>\n",
       "      <td>MATCS</td>\n",
       "      <td>1.125162</td>\n",
       "    </tr>\n",
       "    <tr>\n",
       "      <th>CATHERINE</th>\n",
       "      <td>STSDS</td>\n",
       "      <td>1.127264</td>\n",
       "    </tr>\n",
       "    <tr>\n",
       "      <th>DANA</th>\n",
       "      <td>FINMS</td>\n",
       "      <td>1.128433</td>\n",
       "    </tr>\n",
       "    <tr>\n",
       "      <th>STEPHANIE</th>\n",
       "      <td>STSDS</td>\n",
       "      <td>1.143859</td>\n",
       "    </tr>\n",
       "    <tr>\n",
       "      <th>ALEC</th>\n",
       "      <td>STSDS</td>\n",
       "      <td>1.155445</td>\n",
       "    </tr>\n",
       "    <tr>\n",
       "      <th>DAVID</th>\n",
       "      <td>STSCI</td>\n",
       "      <td>1.176324</td>\n",
       "    </tr>\n",
       "    <tr>\n",
       "      <th>ARI</th>\n",
       "      <td>CMPSC</td>\n",
       "      <td>1.189969</td>\n",
       "    </tr>\n",
       "    <tr>\n",
       "      <th>KARSYN</th>\n",
       "      <td>STSDS</td>\n",
       "      <td>1.294633</td>\n",
       "    </tr>\n",
       "    <tr>\n",
       "      <th>NATHAN</th>\n",
       "      <td>CHEME</td>\n",
       "      <td>1.351364</td>\n",
       "    </tr>\n",
       "    <tr>\n",
       "      <th>ANITA</th>\n",
       "      <td>ENVST</td>\n",
       "      <td>1.405671</td>\n",
       "    </tr>\n",
       "    <tr>\n",
       "      <th>JASMINE</th>\n",
       "      <td>COMM</td>\n",
       "      <td>1.541229</td>\n",
       "    </tr>\n",
       "    <tr>\n",
       "      <th>REBECCA</th>\n",
       "      <td>STSDS</td>\n",
       "      <td>1.596426</td>\n",
       "    </tr>\n",
       "    <tr>\n",
       "      <th>QUANSEN</th>\n",
       "      <td>STSDS</td>\n",
       "      <td>1.768989</td>\n",
       "    </tr>\n",
       "    <tr>\n",
       "      <th>MITCHELL</th>\n",
       "      <td>MTHSC</td>\n",
       "      <td>1.769480</td>\n",
       "    </tr>\n",
       "  </tbody>\n",
       "</table>\n",
       "<p>66 rows × 2 columns</p>\n",
       "</div>"
      ],
      "text/plain": [
       "           Major  Random Number\n",
       "Name                           \n",
       "SARAH      STSDS      -2.806421\n",
       "ERAN       CMPSC      -2.068628\n",
       "LERON      CMPSC      -2.005270\n",
       "YAQI       STSDS      -1.980737\n",
       "ANNE       MTHSC      -1.920084\n",
       "TRUNG      CMPSC      -1.736140\n",
       "MAX        CMPSC      -1.635002\n",
       "REGINA     CMPSC      -1.353835\n",
       "THIHA      STSDS      -1.310898\n",
       "JONATHAN   PRMTH      -1.261245\n",
       "FRANCIE    CMPSC      -1.246754\n",
       "JIANGHUA   CMPSC      -1.104014\n",
       "JIAQI      STSDS      -1.074887\n",
       "TINA       STSDS      -1.051674\n",
       "MEGAN      ACTSC      -1.037759\n",
       "YUEHAN     STSDS      -0.933640\n",
       "ROBERTO    CMPSC      -0.874748\n",
       "MENG       STSDS      -0.841541\n",
       "NATHAN     PRMTH      -0.814076\n",
       "ZIQING     STSDS      -0.787066\n",
       "AARON      STSDS      -0.727915\n",
       "PUCHUAN    ECON       -0.656597\n",
       "CHENKAI    STSDS      -0.638761\n",
       "JULIA      STSDS      -0.574015\n",
       "HAN        PRBIO      -0.529539\n",
       "PHILIP     STSDS      -0.518260\n",
       "MISHA      CMPEN      -0.496699\n",
       "RYDER      STSDS      -0.491663\n",
       "MEIYU      STSDS      -0.485933\n",
       "SHUYUN     STSDS      -0.411202\n",
       "...          ...            ...\n",
       "PRIYANKA   CMPSC       0.195923\n",
       "JUSTIN     ACTSC       0.214722\n",
       "MELINDA    STSDS       0.243309\n",
       "LINA       CMPSC       0.301267\n",
       "XINQI      STSCI       0.362135\n",
       "JOSH       MTHSC       0.415749\n",
       "JINGWEN    STSCI       0.423890\n",
       "JASON      STSDS       0.460283\n",
       "BRANDON    CMPSC       0.530544\n",
       "CAMERON    PRPBS       0.710107\n",
       "EDDIE      CMPSC       0.759790\n",
       "ADHITYA    STSDS       0.811819\n",
       "WENXUAN    STSDS       0.859533\n",
       "ROBIN      STSDS       1.059637\n",
       "KEVIN      STSDS       1.070840\n",
       "SOPHIE     CMPSC       1.080084\n",
       "LIA        MATCS       1.125162\n",
       "CATHERINE  STSDS       1.127264\n",
       "DANA       FINMS       1.128433\n",
       "STEPHANIE  STSDS       1.143859\n",
       "ALEC       STSDS       1.155445\n",
       "DAVID      STSCI       1.176324\n",
       "ARI        CMPSC       1.189969\n",
       "KARSYN     STSDS       1.294633\n",
       "NATHAN     CHEME       1.351364\n",
       "ANITA      ENVST       1.405671\n",
       "JASMINE    COMM        1.541229\n",
       "REBECCA    STSDS       1.596426\n",
       "QUANSEN    STSDS       1.768989\n",
       "MITCHELL   MTHSC       1.769480\n",
       "\n",
       "[66 rows x 2 columns]"
      ]
     },
     "execution_count": 42,
     "metadata": {},
     "output_type": "execute_result"
    }
   ],
   "source": [
    "students.sort_values(by=\"Random Number\", ascending=True)"
   ]
  },
  {
   "cell_type": "markdown",
   "metadata": {
    "solution2": "shown"
   },
   "source": [
    "**In DS100 we will deal with many different kinds of data (not just numbers) and we will study techniques to diverse types of data.**\n",
    "\n",
    "**How can we summarize the name field?** A good starting point might be to examine the lengths of the strings. "
   ]
  },
  {
   "cell_type": "code",
   "execution_count": 50,
   "metadata": {
    "solution2": "shown"
   },
   "outputs": [
    {
     "data": {
      "text/plain": [
       "Name\n",
       "AARON        5\n",
       "ADHITYA      7\n",
       "ALEC         4\n",
       "ANITA        5\n",
       "ANNE         4\n",
       "ARI          3\n",
       "BRANDON      7\n",
       "CALVIN       6\n",
       "CAMERON      7\n",
       "CATHERINE    9\n",
       "CHENKAI      7\n",
       "DANA         4\n",
       "DAVID        5\n",
       "EDDIE        5\n",
       "ERAN         4\n",
       "FRANCIE      7\n",
       "HAN          3\n",
       "JASMINE      7\n",
       "JASON        5\n",
       "JESSICA      7\n",
       "JIANGHUA     8\n",
       "JIAQI        5\n",
       "JINGWEN      7\n",
       "JONATHAN     8\n",
       "JOSH         4\n",
       "JULIA        5\n",
       "JUSTIN       6\n",
       "KARSYN       6\n",
       "KEVIN        5\n",
       "LERON        5\n",
       "            ..\n",
       "MENG         4\n",
       "MISHA        5\n",
       "MITCHELL     8\n",
       "NATHAN       6\n",
       "NATHAN       6\n",
       "NICK         4\n",
       "PHILIP       6\n",
       "PRIYANKA     8\n",
       "PUCHUAN      7\n",
       "QUANSEN      7\n",
       "REBECCA      7\n",
       "REGINA       6\n",
       "ROBERTO      7\n",
       "ROBIN        5\n",
       "RYDER        5\n",
       "SARAH        5\n",
       "SHUYUN       6\n",
       "SOPHIE       6\n",
       "STEPHANIE    9\n",
       "STEPHANIE    9\n",
       "TAYLOR       6\n",
       "THIHA        5\n",
       "TINA         4\n",
       "TRUNG        5\n",
       "WENXUAN      7\n",
       "XINQI        5\n",
       "YAQI         4\n",
       "YU           2\n",
       "YUEHAN       6\n",
       "ZIQING       6\n",
       "Name: Name Length, Length: 66, dtype: int64"
      ]
     },
     "execution_count": 50,
     "metadata": {},
     "output_type": "execute_result"
    }
   ],
   "source": [
    "students.index.str.len()\n",
    "\n",
    "# students[\"Name Length\"] = students.index.str.len() \n",
    "## students['Name Length']"
   ]
  },
  {
   "cell_type": "markdown",
   "metadata": {},
   "source": [
    "## Visualizing name length in Altair"
   ]
  },
  {
   "cell_type": "code",
   "execution_count": 51,
   "metadata": {
    "scrolled": true,
    "solution2": "shown"
   },
   "outputs": [
    {
     "data": {
      "text/html": [
       "\n",
       "<div id=\"altair-viz-719bca5711e74f6b892c38945b8d8be3\"></div>\n",
       "<script type=\"text/javascript\">\n",
       "  (function(spec, embedOpt){\n",
       "    const outputDiv = document.getElementById(\"altair-viz-719bca5711e74f6b892c38945b8d8be3\");\n",
       "    const paths = {\n",
       "      \"vega\": \"https://cdn.jsdelivr.net/npm//vega@5?noext\",\n",
       "      \"vega-lib\": \"https://cdn.jsdelivr.net/npm//vega-lib?noext\",\n",
       "      \"vega-lite\": \"https://cdn.jsdelivr.net/npm//vega-lite@4.0.2?noext\",\n",
       "      \"vega-embed\": \"https://cdn.jsdelivr.net/npm//vega-embed@6?noext\",\n",
       "    };\n",
       "\n",
       "    function loadScript(lib) {\n",
       "      return new Promise(function(resolve, reject) {\n",
       "        var s = document.createElement('script');\n",
       "        s.src = paths[lib];\n",
       "        s.async = true;\n",
       "        s.onload = () => resolve(paths[lib]);\n",
       "        s.onerror = () => reject(`Error loading script: ${paths[lib]}`);\n",
       "        document.getElementsByTagName(\"head\")[0].appendChild(s);\n",
       "      });\n",
       "    }\n",
       "\n",
       "    function showError(err) {\n",
       "      outputDiv.innerHTML = `<div class=\"error\" style=\"color:red;\">${err}</div>`;\n",
       "      throw err;\n",
       "    }\n",
       "\n",
       "    function displayChart(vegaEmbed) {\n",
       "      vegaEmbed(outputDiv, spec, embedOpt)\n",
       "        .catch(err => showError(`Javascript Error: ${err.message}<br>This usually means there's a typo in your chart specification. See the javascript console for the full traceback.`));\n",
       "    }\n",
       "\n",
       "    if(typeof define === \"function\" && define.amd) {\n",
       "      requirejs.config({paths});\n",
       "      require([\"vega-embed\"], displayChart, err => showError(`Error loading script: ${err.message}`));\n",
       "    } else if (typeof vegaEmbed === \"function\") {\n",
       "      displayChart(vegaEmbed);\n",
       "    } else {\n",
       "      loadScript(\"vega\")\n",
       "        .then(() => loadScript(\"vega-lite\"))\n",
       "        .then(() => loadScript(\"vega-embed\"))\n",
       "        .catch(showError)\n",
       "        .then(() => displayChart(vegaEmbed));\n",
       "    }\n",
       "  })({\"config\": {\"view\": {\"continuousWidth\": 400, \"continuousHeight\": 300}}, \"data\": {\"name\": \"data-7eb6413e06e06989bd0886ed8d9f4bc4\"}, \"mark\": \"bar\", \"encoding\": {\"x\": {\"type\": \"quantitative\", \"field\": \"Name Length\"}, \"y\": {\"type\": \"quantitative\", \"aggregate\": \"count\"}}, \"$schema\": \"https://vega.github.io/schema/vega-lite/v4.0.2.json\", \"datasets\": {\"data-7eb6413e06e06989bd0886ed8d9f4bc4\": [{\"Major\": \"STSDS\", \"Random Number\": -0.727915104299383, \"Name Length\": 5}, {\"Major\": \"STSDS\", \"Random Number\": 0.8118192803954282, \"Name Length\": 7}, {\"Major\": \"STSDS\", \"Random Number\": 1.1554449833130134, \"Name Length\": 4}, {\"Major\": \"ENVST\", \"Random Number\": 1.4056712725844451, \"Name Length\": 5}, {\"Major\": \"MTHSC\", \"Random Number\": -1.92008429808726, \"Name Length\": 4}, {\"Major\": \"CMPSC\", \"Random Number\": 1.189968864594817, \"Name Length\": 3}, {\"Major\": \"CMPSC\", \"Random Number\": 0.5305442712802787, \"Name Length\": 7}, {\"Major\": \"CMPEN\", \"Random Number\": 0.1295941873168578, \"Name Length\": 6}, {\"Major\": \"PRPBS\", \"Random Number\": 0.7101073769848347, \"Name Length\": 7}, {\"Major\": \"STSDS\", \"Random Number\": 1.127263768749948, \"Name Length\": 9}, {\"Major\": \"STSDS\", \"Random Number\": -0.6387614561572174, \"Name Length\": 7}, {\"Major\": \"FINMS\", \"Random Number\": 1.1284331828488363, \"Name Length\": 4}, {\"Major\": \"STSCI\", \"Random Number\": 1.1763239803524475, \"Name Length\": 5}, {\"Major\": \"CMPSC\", \"Random Number\": 0.7597898921280966, \"Name Length\": 5}, {\"Major\": \"CMPSC\", \"Random Number\": -2.068627880391928, \"Name Length\": 4}, {\"Major\": \"CMPSC\", \"Random Number\": -1.246754208757781, \"Name Length\": 7}, {\"Major\": \"PRBIO\", \"Random Number\": -0.5295391776387388, \"Name Length\": 3}, {\"Major\": \"COMM \", \"Random Number\": 1.541228788202958, \"Name Length\": 7}, {\"Major\": \"STSDS\", \"Random Number\": 0.4602834153543704, \"Name Length\": 5}, {\"Major\": \"ACTSC\", \"Random Number\": -0.2904285587428233, \"Name Length\": 7}, {\"Major\": \"CMPSC\", \"Random Number\": -1.1040138490218785, \"Name Length\": 8}, {\"Major\": \"STSDS\", \"Random Number\": -1.0748867814228598, \"Name Length\": 5}, {\"Major\": \"STSCI\", \"Random Number\": 0.4238896280577548, \"Name Length\": 7}, {\"Major\": \"PRMTH\", \"Random Number\": -1.2612453541452662, \"Name Length\": 8}, {\"Major\": \"MTHSC\", \"Random Number\": 0.4157487530746778, \"Name Length\": 4}, {\"Major\": \"STSDS\", \"Random Number\": -0.5740148357817655, \"Name Length\": 5}, {\"Major\": \"ACTSC\", \"Random Number\": 0.21472216760841514, \"Name Length\": 6}, {\"Major\": \"STSDS\", \"Random Number\": 1.2946330743129242, \"Name Length\": 6}, {\"Major\": \"STSDS\", \"Random Number\": 1.0708404166323044, \"Name Length\": 5}, {\"Major\": \"CMPSC\", \"Random Number\": -2.005269889299331, \"Name Length\": 5}, {\"Major\": \"MATCS\", \"Random Number\": 1.1251621752733971, \"Name Length\": 3}, {\"Major\": \"CMPSC\", \"Random Number\": 0.3012672870223774, \"Name Length\": 4}, {\"Major\": \"CMPSC\", \"Random Number\": -1.635001527364759, \"Name Length\": 3}, {\"Major\": \"ACTSC\", \"Random Number\": -1.0377587713287648, \"Name Length\": 5}, {\"Major\": \"STSDS\", \"Random Number\": -0.48593342063610373, \"Name Length\": 5}, {\"Major\": \"STSDS\", \"Random Number\": 0.2433092343537658, \"Name Length\": 7}, {\"Major\": \"STSDS\", \"Random Number\": -0.8415411742014216, \"Name Length\": 4}, {\"Major\": \"CMPEN\", \"Random Number\": -0.49669901856509135, \"Name Length\": 5}, {\"Major\": \"MTHSC\", \"Random Number\": 1.7694800005641025, \"Name Length\": 8}, {\"Major\": \"CHEME\", \"Random Number\": 1.3513643991510664, \"Name Length\": 6}, {\"Major\": \"PRMTH\", \"Random Number\": -0.8140755508731747, \"Name Length\": 6}, {\"Major\": \"STSDS\", \"Random Number\": -0.34157931931338303, \"Name Length\": 4}, {\"Major\": \"STSDS\", \"Random Number\": -0.518259609109647, \"Name Length\": 6}, {\"Major\": \"CMPSC\", \"Random Number\": 0.19592277968031324, \"Name Length\": 8}, {\"Major\": \"ECON \", \"Random Number\": -0.6565971869426233, \"Name Length\": 7}, {\"Major\": \"STSDS\", \"Random Number\": 1.7689888437578223, \"Name Length\": 7}, {\"Major\": \"STSDS\", \"Random Number\": 1.5964257463565839, \"Name Length\": 7}, {\"Major\": \"CMPSC\", \"Random Number\": -1.3538354461144306, \"Name Length\": 6}, {\"Major\": \"CMPSC\", \"Random Number\": -0.8747476039407415, \"Name Length\": 7}, {\"Major\": \"STSDS\", \"Random Number\": 1.0596374498944376, \"Name Length\": 5}, {\"Major\": \"STSDS\", \"Random Number\": -0.49166346361297397, \"Name Length\": 5}, {\"Major\": \"STSDS\", \"Random Number\": -2.8064205243011386, \"Name Length\": 5}, {\"Major\": \"STSDS\", \"Random Number\": -0.4112016079077026, \"Name Length\": 6}, {\"Major\": \"CMPSC\", \"Random Number\": 1.0800841127391847, \"Name Length\": 6}, {\"Major\": \"STSDS\", \"Random Number\": 1.1438589514198736, \"Name Length\": 9}, {\"Major\": \"STSDS\", \"Random Number\": -0.38495442295157506, \"Name Length\": 9}, {\"Major\": \"STSDS\", \"Random Number\": 0.028529170733013372, \"Name Length\": 6}, {\"Major\": \"STSDS\", \"Random Number\": -1.3108979787038317, \"Name Length\": 5}, {\"Major\": \"STSDS\", \"Random Number\": -1.051674267473681, \"Name Length\": 4}, {\"Major\": \"CMPSC\", \"Random Number\": -1.7361395117280396, \"Name Length\": 5}, {\"Major\": \"STSDS\", \"Random Number\": 0.8595330741096773, \"Name Length\": 7}, {\"Major\": \"STSCI\", \"Random Number\": 0.362135237207078, \"Name Length\": 5}, {\"Major\": \"STSDS\", \"Random Number\": -1.9807368735731692, \"Name Length\": 4}, {\"Major\": \"CMPSC\", \"Random Number\": -0.024187653992714598, \"Name Length\": 2}, {\"Major\": \"STSDS\", \"Random Number\": -0.9336401988746891, \"Name Length\": 6}, {\"Major\": \"STSDS\", \"Random Number\": -0.7870657088828662, \"Name Length\": 6}]}}, {\"mode\": \"vega-lite\"});\n",
       "</script>"
      ],
      "text/plain": [
       "alt.Chart(...)"
      ]
     },
     "execution_count": 51,
     "metadata": {},
     "output_type": "execute_result"
    }
   ],
   "source": [
    "# pseuocode alt.Chart(pandas dataframe).mark_[type of chart].encode()\n",
    "\n",
    "\n",
    "alt.Chart(students).mark_bar().encode(\n",
    "     x = \"Name Length\",\n",
    "     y = \"count()\"\n",
    ")"
   ]
  }
 ],
 "metadata": {
  "kernelspec": {
   "display_name": "Python 3",
   "language": "python",
   "name": "python3"
  },
  "language_info": {
   "codemirror_mode": {
    "name": "ipython",
    "version": 3
   },
   "file_extension": ".py",
   "mimetype": "text/x-python",
   "name": "python",
   "nbconvert_exporter": "python",
   "pygments_lexer": "ipython3",
   "version": "3.6.7"
  },
  "toc": {
   "colors": {
    "hover_highlight": "#DAA520",
    "navigate_num": "#000000",
    "navigate_text": "#333333",
    "running_highlight": "#FF0000",
    "selected_highlight": "#FFD700",
    "sidebar_border": "#EEEEEE",
    "wrapper_background": "#FFFFFF"
   },
   "moveMenuLeft": true,
   "nav_menu": {
    "height": "512px",
    "width": "252px"
   },
   "navigate_menu": true,
   "number_sections": true,
   "sideBar": true,
   "threshold": 4,
   "toc_cell": false,
   "toc_section_display": "block",
   "toc_window_display": false,
   "widenNotebook": false
  },
  "widgets": {
   "application/vnd.jupyter.widget-state+json": {
    "state": {},
    "version_major": 1,
    "version_minor": 0
   }
  }
 },
 "nbformat": 4,
 "nbformat_minor": 2
}
