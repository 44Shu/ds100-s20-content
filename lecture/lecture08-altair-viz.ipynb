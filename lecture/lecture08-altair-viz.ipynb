{
 "cells": [
  {
   "cell_type": "markdown",
   "metadata": {},
   "source": [
    "# Visualization in Altair \n",
    "\n",
    "As you have already seen in the lab, Altair is one of the recent Python visualization libraries.\n",
    "\n",
    "While `matplotlib` is one of the most popular visualization libraries (out of the whole [universe of alternatives](https://speakerdeck.com/jakevdp/pythons-visualization-landscape-pycon-2017?slide=36)), in this course we will be using Altair, because it allows us to focus on _what_ we would like to do, instead of _how_ to do it (the beauty of its [declarative nature](https://speakerdeck.com/jakevdp/pythons-visualization-landscape-pycon-2017?slide=80)).\n",
    "\n",
    "Altair is built on Vega-Lite, which provides specifications for how to render interactive graphics in the browser. (Read more about it: [Vega-Lite: A Grammar of Interactive Graphics](https://eitanlees.github.io/altair-stack/)).\n",
    "\n",
    "## Goals for this session\n",
    "\n",
    "Use Altair to \n",
    "* graph a simple function\n",
    "* graph more than one function on the same plot\n",
    "* use data type encodings \n",
    "    * review why type encoding is important\n",
    "    * use shorthand and long-form\n",
    "* customize a chart by changing\n",
    "    * axes labels\n",
    "    * font sizes\n",
    "    * chart title\n",
    "    * legend\n",
    "* visualize a real-world dataset"
   ]
  },
  {
   "cell_type": "code",
   "execution_count": null,
   "metadata": {},
   "outputs": [],
   "source": [
    "import altair as alt\n",
    "import numpy as np\n",
    "import pandas as pd"
   ]
  },
  {
   "cell_type": "markdown",
   "metadata": {},
   "source": [
    "## Getting / creating a dataframe to visualize\n",
    "\n",
    "Altair is able to work with [different types of objects](https://altair-viz.github.io/user_guide/data.html). The most common type, which makes the encoding relatively straightforward is a Pandas DataFrame.\n",
    "\n",
    "In order to create an Altair chart, we usually would start by getting or creating a DataFrame. In this example, let's \n",
    "* generate integer values we'll call `i` and store them in an array `num`,\n",
    "* generate the `f(i)` values for the `sin` function."
   ]
  },
  {
   "cell_type": "code",
   "execution_count": null,
   "metadata": {},
   "outputs": [],
   "source": [
    "num = np.arange(100) # range of x values\n",
    "\n",
    "sample_data = pd.DataFrame({\n",
    "  'i': num,\n",
    "  'f(i)': np.sin(num / 10)\n",
    "})"
   ]
  },
  {
   "cell_type": "markdown",
   "metadata": {},
   "source": [
    "Note that `i` and `f(i)` refer to the columns in the dataframe called `data`. The array to the right of the colon `:` stores the values in the corresponding column (one value per row)."
   ]
  },
  {
   "cell_type": "markdown",
   "metadata": {},
   "source": [
    "## Creating a chart\n",
    "\n",
    "Now, we can use the new DataFrame that we created (`sample_data`) as the input to Altair.\n",
    "\n",
    "The structure for the visualization is always the same: the visualization has to start with `alt.Chart` with the DataFrame that we want to visualize given as an input: e.g, `alt.Chart(data)`.\n",
    "\n",
    "Next, we need to decide what kind of visualization we want to create. The options are accessible using the `mark_*` methods. Some of the options include\n",
    "* `mark_point()`: scatter plot\n",
    "* `mark_line()`: line chart\n",
    "* `mark_bar()`: bar chart / histogram\n",
    "\n",
    "See the Example Gallery (https://altair-viz.github.io/gallery/index.html) for a selection of examples.\n",
    "\n",
    "To create our visualization, we need to map Altair's _encoding channels_ (_channels_ for short), to the columns in the dataset. The `encode()` method builds a **key-value mapping** between Altair's encoding channels (such as `x`, `y`, `color`, `shape`, `size`, etc.) to columns in the dataset, accessed by the **column name**."
   ]
  },
  {
   "cell_type": "markdown",
   "metadata": {},
   "source": [
    "In our example, we could **encode** the `i` values of the `sample_data` with the `x` channel of the `Chart`, which represents the x-axis position of the points.  Similarly, if we create a line chart, we can map the `f(i)` values to the `y` channel of the `Chart`."
   ]
  },
  {
   "cell_type": "code",
   "execution_count": null,
   "metadata": {},
   "outputs": [],
   "source": [
    "alt.Chart(sample_data).mark_line().encode(\n",
    "    x = 'i',\n",
    "    y = 'f(i)'\n",
    ")"
   ]
  },
  {
   "cell_type": "markdown",
   "metadata": {},
   "source": [
    "Notice that the axes automatically inherited the dataframe's column names."
   ]
  },
  {
   "cell_type": "markdown",
   "metadata": {},
   "source": [
    "## Type of encodings\n",
    "\n",
    "Note that grid lines and appropriate axis titles are automatically added to the resulting chart above. \n",
    "\n",
    "As described in the [Altair documentation](https://altair-viz.github.io/getting_started/starting.html#encodings-and-marks), when using \"pandas dataframes, Altair automatically determines the appropriate data type for the mapped column\". In our case, it inferred that `x` and `y` channels are both _quantitative_ type (i.e. real-valued).\n",
    "\n",
    "Sometimes it is necessary to manually specify the encoding type. **\"If types are not specified for data input as a DataFrame, Altair defaults to `quantitative` for any numeric data, `temporal` for date/time data, and `nominal` for string data, but be aware that these defaults are by no means always the correct choice!\"** (Source: [Encoding Data Types](https://altair-viz.github.io/user_guide/encoding.html#encoding-data-types).)\n",
    "\n",
    "\n",
    "Specifying the correct type for your data is crucial because it will affect how Altair represents your encoding in the resulting plot. For example, it would [affect the resulting color scales](https://altair-viz.github.io/user_guide/encoding.html#effect-of-data-type-on-color-scales) or [axis scales](https://altair-viz.github.io/user_guide/encoding.html#effect-of-data-type-on-axis-scales).\n",
    "\n",
    "Altair allows you to control varios [Encoding Channel Options](https://altair-viz.github.io/user_guide/encoding.html#encoding-channel-options).\n",
    "\n",
    "The details of any mapping depend on the <em>type</em> of the data. Altair recognizes\n",
    "[the following data types](https://altair-viz.github.io/user_guide/encoding.html#encoding-data-types):\n",
    "\n",
    "<table border=\"1\" class=\"docutils\">\n",
    "<colgroup>\n",
    "<col width=\"16%\" />\n",
    "<col width=\"19%\" />\n",
    "<col width=\"65%\" />\n",
    "</colgroup>\n",
    "<thead valign=\"bottom\">\n",
    "<tr class=\"row-odd\"><th class=\"head\">Data Type</th>\n",
    "<th class=\"head\">Shorthand Code</th>\n",
    "<th class=\"head\">Description</th>\n",
    "</tr>\n",
    "</thead>\n",
    "<tbody valign=\"top\">\n",
    "<tr class=\"row-even\"><td>quantitative</td>\n",
    "<td><code class=\"docutils literal\"><span class=\"pre\">Q</span></code></td>\n",
    "<td>a continuous real-valued quantity</td>\n",
    "</tr>\n",
    "<tr class=\"row-odd\"><td>ordinal</td>\n",
    "<td><code class=\"docutils literal\"><span class=\"pre\">O</span></code></td>\n",
    "<td>a discrete ordered quantity</td>\n",
    "</tr>\n",
    "<tr class=\"row-even\"><td>nominal</td>\n",
    "<td><code class=\"docutils literal\"><span class=\"pre\">N</span></code></td>\n",
    "<td>a discrete unordered category</td>\n",
    "</tr>\n",
    "<tr class=\"row-odd\"><td>temporal</td>\n",
    "<td><code class=\"docutils literal\"><span class=\"pre\">T</span></code></td>\n",
    "<td>a time or date value</td>\n",
    "</tr>\n",
    "<tr class=\"row-even\"><td>geojson</td>\n",
    "<td><code class=\"docutils literal\"><span class=\"pre\">G</span></code></td>\n",
    "<td>a geographic shape</td>\n",
    "</tr>\n",
    "</tbody>\n",
    "</table>\n",
    "\n",
    "\n",
    "\n",
    "The types can either be expressed in a **long-form** using the _channel encoding classes_ such as `X` and `Y`, or in **short-form** using the [Shorthand Syntax](https://altair-viz.github.io/user_guide/encoding.html#shorthand-description) discussed below.\n",
    "\n",
    "To use Altair's shorthand syntax, we need to use the **Shorthand Code** shown above and include it after the colon `:` in the dataFrame column specification during the encoding (as shown below)."
   ]
  },
  {
   "cell_type": "code",
   "execution_count": null,
   "metadata": {},
   "outputs": [],
   "source": [
    "alt.Chart(sample_data).mark_line().encode(\n",
    "    x = 'i:Q',\n",
    "    y = 'f(i):Q'\n",
    ")"
   ]
  },
  {
   "cell_type": "markdown",
   "metadata": {},
   "source": [
    "The shorthand is equivalent to spelling-out the attributes by name in the **long-form**. The code below produces the same results but **note the differences in syntax**, e.g., capitalized `X` and `Y` with the addition of `alt.` before them and parentheses instead of the assignment statement:"
   ]
  },
  {
   "cell_type": "code",
   "execution_count": null,
   "metadata": {},
   "outputs": [],
   "source": [
    "alt.Chart(sample_data).mark_line().encode(\n",
    "    alt.X('i', type='quantitative'),\n",
    "    alt.Y('f(i)', type='quantitative')\n",
    ")"
   ]
  },
  {
   "cell_type": "markdown",
   "metadata": {},
   "source": [
    "As mentioned in the [documentation](https://altair-viz.github.io/user_guide/encoding.html#encoding-data-types), the shorthand form \"is useful for its lack of boilerplate when doing quick data explorations. The long-form, `alt.X('name', type='quantitative')`, is useful when doing more fine-tuned adjustments to the encoding, such as binning, axis and scale properties, or more.\""
   ]
  },
  {
   "cell_type": "markdown",
   "metadata": {},
   "source": [
    "\n",
    "## Customizing a chart\n",
    "\n",
    "For some reason, in most tools, the default text in visualizations is small and hard to read. \n",
    "\n",
    "Whenever you pick up a new visualization tool, we recommend to immediately learn how to do the following minimum steps:\n",
    "1. how to create/change axis labels\n",
    "1. how to change (increase) the font size\n",
    "1. how to include the title of the visualization\n",
    "1. how to specify colors / color schemes in the chart\n",
    "\n",
    "Let's learn how to do each of these in Altair.\n",
    "\n",
    "\n",
    "### Rename axis label\n",
    "\n",
    "Let's first rename the axis labels, since `i` is extra hard to see. We can manipulate each axis individually by using `alt.X` and `alt.Y`. Note that we need to provide the _column name_ from the dataframe and then the corresponding `title` that needs to be displayed instead."
   ]
  },
  {
   "cell_type": "code",
   "execution_count": null,
   "metadata": {},
   "outputs": [],
   "source": [
    "chart1 = alt.Chart(sample_data).mark_line().encode(\n",
    "    alt.X('i', title='x'),\n",
    "    alt.Y('f(i)', title='sin(x/10)')\n",
    ")\n",
    "chart1 # now we can refer to this chart and change its properties later"
   ]
  },
  {
   "cell_type": "markdown",
   "metadata": {},
   "source": [
    "### Change the font size\n",
    "\n",
    "Notice that in the above visualization the title of each axis and the axis labels (the numbers for the grid) are quite small. In Altair, we can separately adjust the size of each font."
   ]
  },
  {
   "cell_type": "code",
   "execution_count": null,
   "metadata": {},
   "outputs": [],
   "source": [
    "# by reassigning chart1, the configuration for this chart is saved\n",
    "# nothing will be displayed after the assignment statement\n",
    "chart1 = chart1.configure_axis(\n",
    "    labelFontSize=14, # change axes label font size\n",
    "    titleFontSize=16  # change axes title font size\n",
    ")\n",
    "\n",
    "chart1 # to actually show the resulting visualization"
   ]
  },
  {
   "cell_type": "markdown",
   "metadata": {},
   "source": [
    "**Aside**: We also could have generated the above data using the Altair's [Sequence Generator](https://altair-viz.github.io/user_guide/data.html#generated-data)."
   ]
  },
  {
   "cell_type": "markdown",
   "metadata": {},
   "source": [
    "## Detour: plotting more than one function to compare scales"
   ]
  },
  {
   "cell_type": "code",
   "execution_count": null,
   "metadata": {},
   "outputs": [],
   "source": [
    "num = np.arange(1, 1000) # range of x values\n",
    "\n",
    "sample_data = pd.DataFrame({\n",
    "    'x': num,\n",
    "    'lin': num,\n",
    "    'log(x)': np.log(num),\n",
    "    'exp': np.array(2**(num/100))\n",
    "})\n",
    "\n",
    "sample_data"
   ]
  },
  {
   "cell_type": "code",
   "execution_count": null,
   "metadata": {},
   "outputs": [],
   "source": [
    "alt.Chart(sample_data).mark_line().encode(\n",
    "    x = 'x',\n",
    "    y = 'exp'\n",
    ")"
   ]
  },
  {
   "cell_type": "code",
   "execution_count": null,
   "metadata": {},
   "outputs": [],
   "source": [
    "# https://altair-viz.github.io/user_guide/data.html#long-form-vs-wide-form-data\n",
    "reshaped_data = sample_data.melt('x')\n",
    "reshaped_data"
   ]
  },
  {
   "cell_type": "markdown",
   "metadata": {},
   "source": [
    "Notice that `melt` automatically renames the resulting columns into `'variable'` and `'value'`."
   ]
  },
  {
   "cell_type": "code",
   "execution_count": null,
   "metadata": {
    "scrolled": false
   },
   "outputs": [],
   "source": [
    "alt.Chart(reshaped_data).mark_line().encode(\n",
    "    x = 'x',\n",
    "    y = 'value',\n",
    "    color = 'variable'\n",
    ")"
   ]
  },
  {
   "cell_type": "markdown",
   "metadata": {},
   "source": [
    "Let's make our chart square."
   ]
  },
  {
   "cell_type": "code",
   "execution_count": null,
   "metadata": {},
   "outputs": [],
   "source": [
    "alt.Chart(reshaped_data).mark_line().encode(\n",
    "    x = 'x',\n",
    "    y = 'value',\n",
    "    color = 'variable'\n",
    ").properties(\n",
    "    width=400,\n",
    "    height=400\n",
    ")"
   ]
  },
  {
   "cell_type": "markdown",
   "metadata": {},
   "source": [
    "\n",
    "A couple of helpful references:\n",
    "[How to Read a Logarithmic Scale](https://www.wikihow.com/Read-a-Logarithmic-Scale)\n",
    "and\n",
    "[When Should I Use Logarithmic Scales in My Charts and Graphs?](https://www.forbes.com/sites/naomirobbins/2012/01/19/when-should-i-use-logarithmic-scales-in-my-charts-and-graphs/#a315cbc5e67b)."
   ]
  },
  {
   "cell_type": "code",
   "execution_count": null,
   "metadata": {},
   "outputs": [],
   "source": [
    "alt.Chart(reshaped_data).mark_line().encode(\n",
    "    alt.X('x', scale=alt.Scale(type='log')),\n",
    "    alt.Y('value', title='f(x)'),\n",
    "    color = 'variable'\n",
    ")"
   ]
  },
  {
   "cell_type": "markdown",
   "metadata": {},
   "source": [
    "Let's make a [log-log plot](https://en.wikipedia.org/wiki/Log%E2%80%93log_plot)  that uses logarithmic scales on both the horizontal and vertical axes.."
   ]
  },
  {
   "cell_type": "code",
   "execution_count": null,
   "metadata": {},
   "outputs": [],
   "source": [
    "alt.Chart(reshaped_data).mark_line().encode(\n",
    "    alt.X('x', scale=alt.Scale(type='log')),\n",
    "    alt.Y('value', title='f(x)', scale=alt.Scale(type='log')),\n",
    "    color = 'variable'\n",
    ")"
   ]
  },
  {
   "cell_type": "code",
   "execution_count": null,
   "metadata": {},
   "outputs": [],
   "source": [
    "reshaped_data[reshaped_data['value'] <=0]"
   ]
  },
  {
   "cell_type": "code",
   "execution_count": null,
   "metadata": {
    "scrolled": false
   },
   "outputs": [],
   "source": [
    "alt.Chart(reshaped_data).transform_filter(\n",
    "    alt.datum.value > 0  \n",
    ").mark_line().encode(\n",
    "    alt.X('x', scale=alt.Scale(type='log')),\n",
    "    alt.Y('value', title='f(x)', scale=alt.Scale(type='log')),\n",
    "    color = 'variable'\n",
    ")"
   ]
  },
  {
   "cell_type": "markdown",
   "metadata": {},
   "source": [
    "Notice that the legend label automatically inherited the column name `'variable'`. Let's change it to explain that the colors in the legend refer to the functions. To do so, we will need to change `color` and use `alt.Color` and its `legend` property.\n"
   ]
  },
  {
   "cell_type": "code",
   "execution_count": null,
   "metadata": {},
   "outputs": [],
   "source": [
    "alt.Chart(reshaped_data).transform_filter(\n",
    "    alt.datum.value > 0  \n",
    ").mark_line().encode(\n",
    "    alt.X('x', scale=alt.Scale(type='log')),\n",
    "    alt.Y('value', title='f(x)', scale=alt.Scale(type='log')),\n",
    "    color = alt.Color('variable', legend=alt.Legend(title=\"Functions\"))\n",
    ")"
   ]
  },
  {
   "cell_type": "markdown",
   "metadata": {},
   "source": [
    "### Add the chart title\n",
    "\n",
    "Let's finalize our visualization by adding the title and updating the fonts."
   ]
  },
  {
   "cell_type": "code",
   "execution_count": null,
   "metadata": {
    "scrolled": true
   },
   "outputs": [],
   "source": [
    "alt.Chart(reshaped_data).transform_filter(\n",
    "    alt.datum.value > 0  \n",
    ").mark_line().encode(\n",
    "    alt.X('x', scale=alt.Scale(type='log')),\n",
    "    alt.Y('value', title='f(x)', scale=alt.Scale(type='log')),\n",
    "    color = alt.Color('variable', legend=alt.Legend(title=\"Functions\"))\n",
    ").properties(\n",
    "    title=\"Comparison of exponential, linear, and logarithmic functions.\"\n",
    ").configure_title(fontSize=18).configure_axis(\n",
    "    labelFontSize=14, # change axes label font size\n",
    "    titleFontSize=16  # change axes title font size\n",
    ")"
   ]
  },
  {
   "cell_type": "markdown",
   "metadata": {},
   "source": [
    "### Customize the legend\n",
    "\n",
    "Now we see that the legend also has the default (small) text size. Let's fix it and make it readable like the rest of our text.\n",
    "\n",
    "We'll need to change `configure_`..."
   ]
  },
  {
   "cell_type": "code",
   "execution_count": null,
   "metadata": {},
   "outputs": [],
   "source": [
    "chart = alt.Chart(reshaped_data).transform_filter(\n",
    "    alt.datum.value > 0  \n",
    ").mark_line().encode(\n",
    "    alt.X('x', scale=alt.Scale(type='log')),\n",
    "    alt.Y('value', title='f(x)', scale=alt.Scale(type='log')),\n",
    "    color = alt.Color('variable', legend=alt.Legend(title=\"Functions\"))\n",
    ").properties(\n",
    "    title=\"A log–log plot of exponential, linear, and logarithmic functions.\"\n",
    ").configure_title(fontSize=18).configure_axis(\n",
    "    labelFontSize=14, # change axes label font size\n",
    "    titleFontSize=16  # change axes title font size\n",
    ").configure_legend(\n",
    "    labelFontSize=13,\n",
    "    titleFontSize=14\n",
    ")\n",
    "chart"
   ]
  },
  {
   "cell_type": "markdown",
   "metadata": {},
   "source": [
    "Here's additional documentation for customizing the legend.\n",
    "\n",
    "https://altair-viz.github.io/user_guide/configuration.html#legend-configuration\n",
    "\n",
    "https://altair-viz.github.io/user_guide/customization.html#adjusting-the-legend\n",
    "\n",
    "https://altair-viz.github.io/user_guide/encoding.html#sorting-legends\n",
    "\n"
   ]
  },
  {
   "cell_type": "markdown",
   "metadata": {},
   "source": [
    "## Select a new dataset\n",
    "\n",
    "In order to learn how to add a chart title and change the default colors of a visualization, let's switch to a more interesting dataset. \n",
    "\n",
    "Let's use a package `vega_datasets` to select a real-world dataset to visualize."
   ]
  },
  {
   "cell_type": "code",
   "execution_count": null,
   "metadata": {},
   "outputs": [],
   "source": [
    "from vega_datasets import data\n",
    "# https://github.com/altair-viz/vega_datasets"
   ]
  },
  {
   "cell_type": "code",
   "execution_count": null,
   "metadata": {},
   "outputs": [],
   "source": [
    "# We can get helpful information by taking a look at the\n",
    "# help documentation\n",
    "# help(data)"
   ]
  },
  {
   "cell_type": "code",
   "execution_count": null,
   "metadata": {},
   "outputs": [],
   "source": [
    "# Looks like local_data has a method defined called list_datasets()\n",
    "\n",
    "datasets = data.list_datasets() # what datasets are avaialable?\n",
    "#datasets"
   ]
  },
  {
   "cell_type": "code",
   "execution_count": null,
   "metadata": {},
   "outputs": [],
   "source": [
    "# Unfortunately, most of the datasets don't have the description property\n",
    "data.stocks.description"
   ]
  },
  {
   "cell_type": "code",
   "execution_count": null,
   "metadata": {
    "scrolled": true
   },
   "outputs": [],
   "source": [
    "df = data.stocks()\n",
    "#df = data('stocks')\n",
    "df.head(125)"
   ]
  },
  {
   "cell_type": "code",
   "execution_count": null,
   "metadata": {},
   "outputs": [],
   "source": [
    "df.tail()"
   ]
  },
  {
   "cell_type": "markdown",
   "metadata": {},
   "source": [
    "Looks like the data are arranged in descending order by the `symbol` and the ascending order by the `date`.\n",
    "\n",
    "We can view the range of stock prices using a scatterplot."
   ]
  },
  {
   "cell_type": "code",
   "execution_count": null,
   "metadata": {},
   "outputs": [],
   "source": [
    "stocks = alt.Chart(df).mark_point().encode(\n",
    "    y = \"symbol\",\n",
    "    x = \"price\"\n",
    ").configure_axis(\n",
    "    labelFontSize=14, # change axes label font size\n",
    "    titleFontSize=16  # change axes title font size\n",
    ")\n",
    "\n",
    "stocks"
   ]
  },
  {
   "cell_type": "code",
   "execution_count": null,
   "metadata": {},
   "outputs": [],
   "source": [
    "stocks_line = alt.Chart(df).mark_line().encode(\n",
    "    x = \"date\",\n",
    "    y = \"price\",\n",
    "    color = \"symbol\"\n",
    ").configure_axis(\n",
    "    labelFontSize=14, # change axes label font size\n",
    "    titleFontSize=16  # change axes title font size\n",
    ")\n",
    "\n",
    "stocks_line"
   ]
  },
  {
   "cell_type": "markdown",
   "metadata": {},
   "source": [
    "We can further differentiate the lines by adding `strokeDash='symbol'` as shown in this [Multi Series Line Chart](https://altair-viz.github.io/gallery/multi_series_line.html) example."
   ]
  },
  {
   "cell_type": "code",
   "execution_count": null,
   "metadata": {
    "scrolled": true
   },
   "outputs": [],
   "source": [
    "### Add the chart title\n",
    "\n",
    "stocks_line = stocks_line.properties(\n",
    "    title=\"Daily closing stock prices between 2000 and 2010.\"\n",
    ").configure_title(fontSize=18)\n",
    "\n",
    "stocks_line"
   ]
  },
  {
   "cell_type": "markdown",
   "metadata": {},
   "source": []
  },
  {
   "cell_type": "markdown",
   "metadata": {},
   "source": [
    "### Adjust colors\n",
    "\n",
    "https://altair-viz.github.io/user_guide/customization.html#customizing-colors\n",
    "\n",
    "Vega-lite specification of color schemes: https://vega.github.io/vega/docs/schemes/"
   ]
  },
  {
   "cell_type": "markdown",
   "metadata": {},
   "source": [
    "# Group Activity\n",
    "\n",
    "You'll be placed into breakout groups: remember the number for your group -- that will be the number you need to change in this spreadsheet:\n",
    "https://docs.google.com/spreadsheets/d/1QNxYLtzBpZ5AaVAcC3rPzvpaoyxXB7Zwz7z97eY2MOA/edit?usp=sharing"
   ]
  },
  {
   "cell_type": "markdown",
   "metadata": {},
   "source": []
  },
  {
   "cell_type": "code",
   "execution_count": null,
   "metadata": {},
   "outputs": [],
   "source": []
  }
 ],
 "metadata": {
  "kernelspec": {
   "display_name": "Python 3",
   "language": "python",
   "name": "python3"
  },
  "language_info": {
   "codemirror_mode": {
    "name": "ipython",
    "version": 3
   },
   "file_extension": ".py",
   "mimetype": "text/x-python",
   "name": "python",
   "nbconvert_exporter": "python",
   "pygments_lexer": "ipython3",
   "version": "3.8.0"
  }
 },
 "nbformat": 4,
 "nbformat_minor": 2
}
